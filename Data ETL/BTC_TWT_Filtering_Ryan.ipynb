{
 "cells": [
  {
   "cell_type": "markdown",
   "metadata": {},
   "source": [
    "# Loading Data & Packages"
   ]
  },
  {
   "cell_type": "code",
   "execution_count": 1,
   "metadata": {},
   "outputs": [],
   "source": [
    "try:\n",
    "    del Twt_cleaner\n",
    "except:\n",
    "    pass \n",
    "import Twt_cleaner"
   ]
  },
  {
   "cell_type": "code",
   "execution_count": 4,
   "metadata": {},
   "outputs": [],
   "source": [
    "import pandas as pd \n",
    "import numpy as np \n",
    "import seaborn as sns\n",
    "import matplotlib.pyplot as plt\n",
    "import re\n",
    "#KenJi's NLP\n",
    "from difflib import SequenceMatcher\n",
    "from tqdm.notebook import tqdm\n",
    "from gensim.models import Word2Vec\n",
    "tqdm.pandas()\n",
    "#MingLun's Text Cleanning mod\n",
    "from TextCleaner import TextCleaner\n",
    "from nltk.sentiment import SentimentIntensityAnalyzer # VADEdR\n"
   ]
  },
  {
   "cell_type": "code",
   "execution_count": 5,
   "metadata": {},
   "outputs": [],
   "source": [
    "pd.set_option('display.max_colwidth', None)"
   ]
  },
  {
   "cell_type": "code",
   "execution_count": 6,
   "metadata": {},
   "outputs": [
    {
     "name": "stderr",
     "output_type": "stream",
     "text": [
      "C:\\Users\\18066\\AppData\\Local\\Temp/ipykernel_52380/76465128.py:1: DtypeWarning: Columns (5,6,7,12) have mixed types. Specify dtype option on import or set low_memory=False.\n",
      "  df_raw = pd.read_csv('Bitcoin_tweets.csv')\n"
     ]
    }
   ],
   "source": [
    "df_raw = pd.read_csv('Bitcoin_tweets.csv')"
   ]
  },
  {
   "cell_type": "code",
   "execution_count": 7,
   "metadata": {},
   "outputs": [],
   "source": [
    "# sample_fraction = 20\n",
    "# _sample_size = int(df_raw.shape[0]/sample_fraction)\n",
    "# df_sample = df_raw.sample(_sample_size)\n",
    "df_sample = df_raw.copy()"
   ]
  },
  {
   "cell_type": "code",
   "execution_count": 8,
   "metadata": {},
   "outputs": [
    {
     "data": {
      "text/html": [
       "<div>\n",
       "<style scoped>\n",
       "    .dataframe tbody tr th:only-of-type {\n",
       "        vertical-align: middle;\n",
       "    }\n",
       "\n",
       "    .dataframe tbody tr th {\n",
       "        vertical-align: top;\n",
       "    }\n",
       "\n",
       "    .dataframe thead th {\n",
       "        text-align: right;\n",
       "    }\n",
       "</style>\n",
       "<table border=\"1\" class=\"dataframe\">\n",
       "  <thead>\n",
       "    <tr style=\"text-align: right;\">\n",
       "      <th></th>\n",
       "      <th>user_name</th>\n",
       "      <th>user_location</th>\n",
       "      <th>user_description</th>\n",
       "      <th>user_created</th>\n",
       "      <th>user_followers</th>\n",
       "      <th>user_friends</th>\n",
       "      <th>user_favourites</th>\n",
       "      <th>user_verified</th>\n",
       "      <th>date</th>\n",
       "      <th>text</th>\n",
       "      <th>hashtags</th>\n",
       "      <th>source</th>\n",
       "      <th>is_retweet</th>\n",
       "    </tr>\n",
       "  </thead>\n",
       "  <tbody>\n",
       "    <tr>\n",
       "      <th>0</th>\n",
       "      <td>DeSota Wilson</td>\n",
       "      <td>Atlanta, GA</td>\n",
       "      <td>Biz Consultant, real estate, fintech, startups, posts are not the view of my employer, RTs are not endorsements, military brat, @UNC alumnus, ΚΑΨ♦️ΦΝΠ, -DW = Me</td>\n",
       "      <td>2009-04-26 20:05:09</td>\n",
       "      <td>8534.0</td>\n",
       "      <td>7605</td>\n",
       "      <td>4838</td>\n",
       "      <td>False</td>\n",
       "      <td>2021-02-10 23:59:04</td>\n",
       "      <td>Blue Ridge Bank shares halted by NYSE after #bitcoin ATM announcement https://t.co/xaaZmaJKiV @MyBlueRidgeBank… https://t.co/sgBxMkP1SI</td>\n",
       "      <td>['bitcoin']</td>\n",
       "      <td>Twitter Web App</td>\n",
       "      <td>False</td>\n",
       "    </tr>\n",
       "    <tr>\n",
       "      <th>1</th>\n",
       "      <td>CryptoND</td>\n",
       "      <td>NaN</td>\n",
       "      <td>😎 BITCOINLIVE is a Dutch platform aimed at informing the general public about crypto &amp; technology! 😉 AND promoting it: https://t.co/5RYdRnUSud</td>\n",
       "      <td>2019-10-17 20:12:10</td>\n",
       "      <td>6769.0</td>\n",
       "      <td>1532</td>\n",
       "      <td>25483</td>\n",
       "      <td>False</td>\n",
       "      <td>2021-02-10 23:58:48</td>\n",
       "      <td>😎 Today, that's this #Thursday, we will do a \"🎬 Take 2\" with our friend @LeoWandersleb, #Btc #wallet #security expe… https://t.co/go6aDgRml5</td>\n",
       "      <td>['Thursday', 'Btc', 'wallet', 'security']</td>\n",
       "      <td>Twitter for Android</td>\n",
       "      <td>False</td>\n",
       "    </tr>\n",
       "    <tr>\n",
       "      <th>2</th>\n",
       "      <td>Tdlmatias</td>\n",
       "      <td>London, England</td>\n",
       "      <td>IM Academy : The best #forex, #SelfEducation, #Cryptocurrency trading education platform: https://t.co/LUr56q3Q19 🙋‍♂️ 💰 💰in the World 🗺..</td>\n",
       "      <td>2014-11-10 10:50:37</td>\n",
       "      <td>128.0</td>\n",
       "      <td>332</td>\n",
       "      <td>924</td>\n",
       "      <td>False</td>\n",
       "      <td>2021-02-10 23:54:48</td>\n",
       "      <td>Guys evening, I have read this article about BTC and would like to share with you all - https://t.co/QxCZgmuy3B… https://t.co/o6wn7ppkVY</td>\n",
       "      <td>NaN</td>\n",
       "      <td>Twitter Web App</td>\n",
       "      <td>False</td>\n",
       "    </tr>\n",
       "    <tr>\n",
       "      <th>3</th>\n",
       "      <td>Crypto is the future</td>\n",
       "      <td>NaN</td>\n",
       "      <td>I will post a lot of buying signals for BTC trading, so I hope that you block me. Drop all everything, Buy Bitcoin for the future I was together with you!</td>\n",
       "      <td>2019-09-28 16:48:12</td>\n",
       "      <td>625.0</td>\n",
       "      <td>129</td>\n",
       "      <td>14</td>\n",
       "      <td>False</td>\n",
       "      <td>2021-02-10 23:54:33</td>\n",
       "      <td>$BTC A big chance in a billion! Price: \\4872644.0 (2021/02/11 08:51) #Bitcoin #FX #BTC #crypto</td>\n",
       "      <td>['Bitcoin', 'FX', 'BTC', 'crypto']</td>\n",
       "      <td>dlvr.it</td>\n",
       "      <td>False</td>\n",
       "    </tr>\n",
       "    <tr>\n",
       "      <th>4</th>\n",
       "      <td>Alex Kirchmaier 🇦🇹🇸🇪 #FactsSuperspreader</td>\n",
       "      <td>Europa</td>\n",
       "      <td>Co-founder @RENJERJerky | Forbes 30Under30 | Innovation Economist, Lateral Thinker, Futurist, #Crypto-enthusiast, facts over ideology! \\n#Bitcoin</td>\n",
       "      <td>2016-02-03 13:15:55</td>\n",
       "      <td>1249.0</td>\n",
       "      <td>1472</td>\n",
       "      <td>10482</td>\n",
       "      <td>False</td>\n",
       "      <td>2021-02-10 23:54:06</td>\n",
       "      <td>This network is secured by 9 508 nodes as of today. Soon, the biggest bears will recognise: #BTC in too big to fail… https://t.co/1XovDA8rKw</td>\n",
       "      <td>['BTC']</td>\n",
       "      <td>Twitter Web App</td>\n",
       "      <td>False</td>\n",
       "    </tr>\n",
       "  </tbody>\n",
       "</table>\n",
       "</div>"
      ],
      "text/plain": [
       "                                  user_name    user_location  \\\n",
       "0                             DeSota Wilson      Atlanta, GA   \n",
       "1                                  CryptoND              NaN   \n",
       "2                                 Tdlmatias  London, England   \n",
       "3                      Crypto is the future              NaN   \n",
       "4  Alex Kirchmaier 🇦🇹🇸🇪 #FactsSuperspreader           Europa   \n",
       "\n",
       "                                                                                                                                                   user_description  \\\n",
       "0  Biz Consultant, real estate, fintech, startups, posts are not the view of my employer, RTs are not endorsements, military brat, @UNC alumnus, ΚΑΨ♦️ΦΝΠ, -DW = Me   \n",
       "1                    😎 BITCOINLIVE is a Dutch platform aimed at informing the general public about crypto & technology! 😉 AND promoting it: https://t.co/5RYdRnUSud   \n",
       "2                        IM Academy : The best #forex, #SelfEducation, #Cryptocurrency trading education platform: https://t.co/LUr56q3Q19 🙋‍♂️ 💰 💰in the World 🗺..   \n",
       "3        I will post a lot of buying signals for BTC trading, so I hope that you block me. Drop all everything, Buy Bitcoin for the future I was together with you!   \n",
       "4                 Co-founder @RENJERJerky | Forbes 30Under30 | Innovation Economist, Lateral Thinker, Futurist, #Crypto-enthusiast, facts over ideology! \\n#Bitcoin   \n",
       "\n",
       "          user_created  user_followers user_friends user_favourites  \\\n",
       "0  2009-04-26 20:05:09          8534.0         7605            4838   \n",
       "1  2019-10-17 20:12:10          6769.0         1532           25483   \n",
       "2  2014-11-10 10:50:37           128.0          332             924   \n",
       "3  2019-09-28 16:48:12           625.0          129              14   \n",
       "4  2016-02-03 13:15:55          1249.0         1472           10482   \n",
       "\n",
       "  user_verified                 date  \\\n",
       "0         False  2021-02-10 23:59:04   \n",
       "1         False  2021-02-10 23:58:48   \n",
       "2         False  2021-02-10 23:54:48   \n",
       "3         False  2021-02-10 23:54:33   \n",
       "4         False  2021-02-10 23:54:06   \n",
       "\n",
       "                                                                                                                                           text  \\\n",
       "0       Blue Ridge Bank shares halted by NYSE after #bitcoin ATM announcement https://t.co/xaaZmaJKiV @MyBlueRidgeBank… https://t.co/sgBxMkP1SI   \n",
       "1  😎 Today, that's this #Thursday, we will do a \"🎬 Take 2\" with our friend @LeoWandersleb, #Btc #wallet #security expe… https://t.co/go6aDgRml5   \n",
       "2      Guys evening, I have read this article about BTC and would like to share with you all - https://t.co/QxCZgmuy3B… https://t.co/o6wn7ppkVY   \n",
       "3                                                $BTC A big chance in a billion! Price: \\4872644.0 (2021/02/11 08:51) #Bitcoin #FX #BTC #crypto   \n",
       "4  This network is secured by 9 508 nodes as of today. Soon, the biggest bears will recognise: #BTC in too big to fail… https://t.co/1XovDA8rKw   \n",
       "\n",
       "                                    hashtags               source is_retweet  \n",
       "0                                ['bitcoin']      Twitter Web App      False  \n",
       "1  ['Thursday', 'Btc', 'wallet', 'security']  Twitter for Android      False  \n",
       "2                                        NaN      Twitter Web App      False  \n",
       "3         ['Bitcoin', 'FX', 'BTC', 'crypto']              dlvr.it      False  \n",
       "4                                    ['BTC']      Twitter Web App      False  "
      ]
     },
     "execution_count": 8,
     "metadata": {},
     "output_type": "execute_result"
    }
   ],
   "source": [
    "df_sample.head()"
   ]
  },
  {
   "cell_type": "markdown",
   "metadata": {},
   "source": [
    "# Goal1:Identify Bots"
   ]
  },
  {
   "cell_type": "code",
   "execution_count": 13,
   "metadata": {},
   "outputs": [],
   "source": [
    "#Cleaning the varified variable \n",
    "True_idx = list(df_sample.query(\"user_verified == True\").index)\n",
    "True_idx +=  list(df_sample.query(\"user_verified == 'True'\").index)\n",
    "try:\n",
    "    df_sample.insert(0,'user_verified_clean',0)\n",
    "except ValueError:\n",
    "    pass \n",
    "for idx in True_idx:\n",
    "    df_sample.at[idx,'user_verified_clean'] = 1"
   ]
  },
  {
   "cell_type": "markdown",
   "metadata": {},
   "source": [
    "## Kenji's Algo #1"
   ]
  },
  {
   "cell_type": "code",
   "execution_count": 15,
   "metadata": {},
   "outputs": [],
   "source": [
    "def Get_likeness_score(df,n=5):\n",
    "    #KenJi's Algo1\n",
    "    df['og_index'] = df.index\n",
    "    #Step1:Store all Non-varified user and their texts\n",
    "    by_user = df.query('user_verified_clean == 0').groupby('user_name').agg({'text' : lambda x : list(x),'og_index':lambda x : list(x)}) \n",
    "    #Step2:Id those who has more than n posts\n",
    "    by_user_more5 = by_user[by_user['text'].str.len() > n]\n",
    "    #Step3:Calculate likely ness score from package SequenceMatcher\n",
    "    all_score = []\n",
    "    for user_name, v in tqdm(by_user_more5.iterrows(), total = len(by_user_more5)):\n",
    "        texts = v[0]\n",
    "        first_text = texts[0]\n",
    "        scores = []\n",
    "        for t in texts[1:]:\n",
    "            scores.append(SequenceMatcher(None, first_text, t).ratio())\n",
    "        all_score.append(sum(scores)/len(scores))\n",
    "    by_user_more5['scores'] = all_score\n",
    "    return by_user_more5"
   ]
  },
  {
   "cell_type": "code",
   "execution_count": null,
   "metadata": {},
   "outputs": [],
   "source": [
    "#df_score_cleaned = Get_likeness_score(df_clean)"
   ]
  },
  {
   "cell_type": "code",
   "execution_count": 21,
   "metadata": {},
   "outputs": [
    {
     "data": {
      "application/vnd.jupyter.widget-view+json": {
       "model_id": "1a9fcaf41607487989a5cf2de72b0e7f",
       "version_major": 2,
       "version_minor": 0
      },
      "text/plain": [
       "  0%|          | 0/57929 [00:00<?, ?it/s]"
      ]
     },
     "metadata": {},
     "output_type": "display_data"
    },
    {
     "name": "stderr",
     "output_type": "stream",
     "text": [
      "C:\\Users\\18066\\AppData\\Local\\Temp/ipykernel_52380/783988564.py:17: SettingWithCopyWarning: \n",
      "A value is trying to be set on a copy of a slice from a DataFrame.\n",
      "Try using .loc[row_indexer,col_indexer] = value instead\n",
      "\n",
      "See the caveats in the documentation: https://pandas.pydata.org/pandas-docs/stable/user_guide/indexing.html#returning-a-view-versus-a-copy\n",
      "  by_user_more5['scores'] = all_score\n"
     ]
    }
   ],
   "source": [
    "df_score_raw = Get_likeness_score(df_sample)"
   ]
  },
  {
   "cell_type": "code",
   "execution_count": 22,
   "metadata": {},
   "outputs": [
    {
     "data": {
      "text/plain": [
       "<matplotlib.legend.Legend at 0x24ca50a6af0>"
      ]
     },
     "execution_count": 22,
     "metadata": {},
     "output_type": "execute_result"
    },
    {
     "data": {
      "image/png": "[encoded data removed]",
      "text/plain": [
       "<Figure size 432x288 with 1 Axes>"
      ]
     },
     "metadata": {
      "needs_background": "light"
     },
     "output_type": "display_data"
    }
   ],
   "source": [
    "#df_score_cleaned.scores.hist(bins = 20,alpha=0.7)\n",
    "df_score_raw.scores.hist(bins = 20,alpha=0.7)\n",
    "plt.legend(['Cleaned Score','Raw Score'])"
   ]
  },
  {
   "cell_type": "code",
   "execution_count": 23,
   "metadata": {},
   "outputs": [
    {
     "data": {
      "text/html": [
       "<div>\n",
       "<style scoped>\n",
       "    .dataframe tbody tr th:only-of-type {\n",
       "        vertical-align: middle;\n",
       "    }\n",
       "\n",
       "    .dataframe tbody tr th {\n",
       "        vertical-align: top;\n",
       "    }\n",
       "\n",
       "    .dataframe thead th {\n",
       "        text-align: right;\n",
       "    }\n",
       "</style>\n",
       "<table border=\"1\" class=\"dataframe\">\n",
       "  <thead>\n",
       "    <tr style=\"text-align: right;\">\n",
       "      <th></th>\n",
       "      <th>text</th>\n",
       "      <th>og_index</th>\n",
       "      <th>scores</th>\n",
       "    </tr>\n",
       "    <tr>\n",
       "      <th>user_name</th>\n",
       "      <th></th>\n",
       "      <th></th>\n",
       "      <th></th>\n",
       "    </tr>\n",
       "  </thead>\n",
       "  <tbody>\n",
       "    <tr>\n",
       "      <th>\"ОбвалОчный\" нОж\"Обвальщика\"</th>\n",
       "      <td>[🎱Haha! Lucky number in Dice is mine! It was a great win on Betfury in the amount of 0.1127358259 BFG. My Username: User934930 #betfurysuccess #bitcoin #staking, 🎱Haha! Lucky number in Dice is mine! It was a great win on Betfury in the amount of 0.0187893043 BFG. My Username: User934930 #betfurysuccess #bitcoin #staking, 🎱Haha! Lucky number in Dice is mine! It was a great win on Betfury in the amount of 0.0031315507 BFG. My Username: User934930 #betfurysuccess #bitcoin #staking, 🎱Haha! Lucky number in Dice is mine! It was a great win on Betfury in the amount of 0.0005219251 BFG. My Username: User934930 #betfurysuccess #bitcoin #staking, I earned with the help of my friends! 💸 Anyone can try how it is simple and fun on @betfury i-Gaming platform. My Username: User934930 #betfurysuccess #tron #bitcoin #referral, 🎱Haha! Lucky number in Dice is mine! It was a great win on Betfury in the amount of 0.0000144979 BFG. My Username: User934930 #betfurysuccess #bitcoin #staking, 🎱Haha! Lucky number in Dice is mine! It was a great win on Betfury in the amount of 3.221e-7 BFG. My Username: User934930 #betfurysuccess #bitcoin #staking, 🎱Haha! Lucky number in Dice is mine! It was a great win on Betfury in the amount of 0.0000334489 BNB. My Username: User934930 #betfurysuccess #bitcoin #staking]</td>\n",
       "      <td>[1335560, 1341715, 1341827, 1343320, 1343871, 1369039, 1369266, 1399650]</td>\n",
       "      <td>0.891953</td>\n",
       "    </tr>\n",
       "    <tr>\n",
       "      <th>#BBTC 🚀</th>\n",
       "      <td>[@Waves_Exchange 🚀 It’s confirmed and official ✅\\n\\nBaby Bitcoin $BBTC will officially be in Times Square 🤯@BabyBitcoinBSC \\n\\n📆Date: NOVEMBER 11TH - NOVEMBER 17TH 📆\\n\\nSave the date and we will be even further Known! 🚀 #Bitcoin #BBTC #BTC #BABYBITCOIN #BNB #NY #TIMESQUARE https://t.co/ilDRqVMEdf, @BinanceES 🚀 It’s confirmed and official ✅\\n\\nBaby Bitcoin $BBTC will officially be in Times Square 🤯@BabyBitcoinBSC \\n\\n📆Date: NOVEMBER 11TH - NOVEMBER 17TH 📆\\n\\nSave the date and we will be even further Known! 🚀 #Bitcoin #BBTC #BTC #BABYBITCOIN #BNB #NY #TIMESQUARE https://t.co/ilDRqVMEdf, @Rubiu5 🚀 It’s confirmed and official ✅\\n\\nBaby Bitcoin $BBTC will officially be in Times Square 🤯@BabyBitcoinBSC \\n\\n📆Date: NOVEMBER 11TH - NOVEMBER 17TH 📆\\n\\nSave the date and we will be even further Known! 🚀 #Bitcoin #BBTC #BTC #BABYBITCOIN #BNB #NY #TIMESQUARE https://t.co/ilDRqVMEdf, @Hotbit_news @BtcbamG 🚀 It’s confirmed and official ✅\\n\\nBaby Bitcoin $BBTC will officially be in Times Square 🤯@BabyBitcoinBSC \\n\\n📆Date: NOVEMBER 11TH - NOVEMBER 17TH 📆\\n\\nSave the date and we will be even further Known! 🚀 #Bitcoin #BBTC #BTC #BABYBITCOIN #BNB #NY #TIMESQUARE https://t.co/ilDRqVMEdf, @Hotbit_news @peace_tokenfin 🚀 It’s confirmed and official ✅\\n\\nBaby Bitcoin $BBTC will officially be in Times Square 🤯@BabyBitcoinBSC \\n\\n📆Date: NOVEMBER 11TH - NOVEMBER 17TH 📆\\n\\nSave the date and we will be even further Known! 🚀 #Bitcoin #BBTC #BTC #BABYBITCOIN #BNB #NY #TIMESQUARE https://t.co/ilDRqVMEdf, @Hotbit_news @Immutable 🚀 It’s confirmed and official ✅\\n\\nBaby Bitcoin $BBTC will officially be in Times Square 🤯@BabyBitcoinBSC \\n\\n📆Date: NOVEMBER 11TH - NOVEMBER 17TH 📆\\n\\nSave the date and we will be even further Known! 🚀 #Bitcoin #BBTC #BTC #BABYBITCOIN #BNB #NY #TIMESQUARE https://t.co/ilDRqVMEdf, @IbaiLlanos 🚀 It’s confirmed and official ✅\\n\\nBaby Bitcoin $BBTC will officially be in Times Square 🤯@BabyBitcoinBSC \\n\\n📆Date: NOVEMBER 11TH - NOVEMBER 17TH 📆\\n\\nSave the date and we will be even further Known! 🚀 #Bitcoin #BBTC #BTC #BABYBITCOIN #BNB #NY #TIMESQUARE https://t.co/ilDRqVMEdf, @cripto_mi 🚀 It’s confirmed and official ✅\\n\\nBaby Bitcoin $BBTC will officially be in Times Square 🤯@BabyBitcoinBSC \\n\\n📆Date: NOVEMBER 11TH - NOVEMBER 17TH 📆\\n\\nSave the date and we will be even further Known! 🚀 #Bitcoin #BBTC #BTC #BABYBITCOIN #BNB #NY #TIMESQUARE https://t.co/ilDRqVMEdf, @MARCIANOPHONE 🚀 It’s confirmed and official ✅\\n\\nBaby Bitcoin $BBTC will officially be in Times Square 🤯@BabyBitcoinBSC \\n\\n📆Date: NOVEMBER 11TH - NOVEMBER 17TH 📆\\n\\nSave the date and we will be even further Known! 🚀 #Bitcoin #BBTC #BTC #BABYBITCOIN #BNB #NY #TIMESQUARE https://t.co/ilDRqVMEdf, @1goonrich 🚀 It’s confirmed and official ✅\\n\\nBaby Bitcoin $BBTC will officially be in Times Square 🤯@BabyBitcoinBSC \\n\\n📆Date: NOVEMBER 11TH - NOVEMBER 17TH 📆\\n\\nSave the date and we will be even further Known! 🚀 #Bitcoin #BBTC #BTC #BABYBITCOIN #BNB #NY #TIMESQUARE https://t.co/ilDRqVMEdf]</td>\n",
       "      <td>[1627930, 1629097, 1630225, 1636473, 1636726, 1637299, 1637307, 1638178, 1638500, 1640932]</td>\n",
       "      <td>0.954697</td>\n",
       "    </tr>\n",
       "  </tbody>\n",
       "</table>\n",
       "</div>"
      ],
      "text/plain": [
       "                                                                                                                                                                                                                                                                                                                                                                                                                                                                                                                                                                                                                                                                                                                                                                                                                                                                                                                                                                                                                                                                                                                                                                                                                                                                                                                                                                                                                                                                                                                                                                                                                                                                                                                                                                                                                                                                                                                                                                                                                                                                                                                                                                                                                                                                                                                                                                                                                                                                                                                                                                                                                                                                                                                                                                                                                                                                                                                                                                                                                                                                                                                             text  \\\n",
       "user_name                                                                                                                                                                                                                                                                                                                                                                                                                                                                                                                                                                                                                                                                                                                                                                                                                                                                                                                                                                                                                                                                                                                                                                                                                                                                                                                                                                                                                                                                                                                                                                                                                                                                                                                                                                                                                                                                                                                                                                                                                                                                                                                                                                                                                                                                                                                                                                                                                                                                                                                                                                                                                                                                                                                                                                                                                                                                                                                                                                                                                                                                                                                           \n",
       "\"ОбвалОчный\" нОж\"Обвальщика\"                                                                                                                                                                                                                                                                                                                                                                                                                                                                                                                                                                                                                                                                                                                                                                                                                                                                                                                                                                                                                                                                                                                                                                                                                                                                                                                                                                                                                                                                                                                                                                                                                                                                                                                                                 [🎱Haha! Lucky number in Dice is mine! It was a great win on Betfury in the amount of 0.1127358259 BFG. My Username: User934930 #betfurysuccess #bitcoin #staking, 🎱Haha! Lucky number in Dice is mine! It was a great win on Betfury in the amount of 0.0187893043 BFG. My Username: User934930 #betfurysuccess #bitcoin #staking, 🎱Haha! Lucky number in Dice is mine! It was a great win on Betfury in the amount of 0.0031315507 BFG. My Username: User934930 #betfurysuccess #bitcoin #staking, 🎱Haha! Lucky number in Dice is mine! It was a great win on Betfury in the amount of 0.0005219251 BFG. My Username: User934930 #betfurysuccess #bitcoin #staking, I earned with the help of my friends! 💸 Anyone can try how it is simple and fun on @betfury i-Gaming platform. My Username: User934930 #betfurysuccess #tron #bitcoin #referral, 🎱Haha! Lucky number in Dice is mine! It was a great win on Betfury in the amount of 0.0000144979 BFG. My Username: User934930 #betfurysuccess #bitcoin #staking, 🎱Haha! Lucky number in Dice is mine! It was a great win on Betfury in the amount of 3.221e-7 BFG. My Username: User934930 #betfurysuccess #bitcoin #staking, 🎱Haha! Lucky number in Dice is mine! It was a great win on Betfury in the amount of 0.0000334489 BNB. My Username: User934930 #betfurysuccess #bitcoin #staking]   \n",
       "#BBTC 🚀                       [@Waves_Exchange 🚀 It’s confirmed and official ✅\\n\\nBaby Bitcoin $BBTC will officially be in Times Square 🤯@BabyBitcoinBSC \\n\\n📆Date: NOVEMBER 11TH - NOVEMBER 17TH 📆\\n\\nSave the date and we will be even further Known! 🚀 #Bitcoin #BBTC #BTC #BABYBITCOIN #BNB #NY #TIMESQUARE https://t.co/ilDRqVMEdf, @BinanceES 🚀 It’s confirmed and official ✅\\n\\nBaby Bitcoin $BBTC will officially be in Times Square 🤯@BabyBitcoinBSC \\n\\n📆Date: NOVEMBER 11TH - NOVEMBER 17TH 📆\\n\\nSave the date and we will be even further Known! 🚀 #Bitcoin #BBTC #BTC #BABYBITCOIN #BNB #NY #TIMESQUARE https://t.co/ilDRqVMEdf, @Rubiu5 🚀 It’s confirmed and official ✅\\n\\nBaby Bitcoin $BBTC will officially be in Times Square 🤯@BabyBitcoinBSC \\n\\n📆Date: NOVEMBER 11TH - NOVEMBER 17TH 📆\\n\\nSave the date and we will be even further Known! 🚀 #Bitcoin #BBTC #BTC #BABYBITCOIN #BNB #NY #TIMESQUARE https://t.co/ilDRqVMEdf, @Hotbit_news @BtcbamG 🚀 It’s confirmed and official ✅\\n\\nBaby Bitcoin $BBTC will officially be in Times Square 🤯@BabyBitcoinBSC \\n\\n📆Date: NOVEMBER 11TH - NOVEMBER 17TH 📆\\n\\nSave the date and we will be even further Known! 🚀 #Bitcoin #BBTC #BTC #BABYBITCOIN #BNB #NY #TIMESQUARE https://t.co/ilDRqVMEdf, @Hotbit_news @peace_tokenfin 🚀 It’s confirmed and official ✅\\n\\nBaby Bitcoin $BBTC will officially be in Times Square 🤯@BabyBitcoinBSC \\n\\n📆Date: NOVEMBER 11TH - NOVEMBER 17TH 📆\\n\\nSave the date and we will be even further Known! 🚀 #Bitcoin #BBTC #BTC #BABYBITCOIN #BNB #NY #TIMESQUARE https://t.co/ilDRqVMEdf, @Hotbit_news @Immutable 🚀 It’s confirmed and official ✅\\n\\nBaby Bitcoin $BBTC will officially be in Times Square 🤯@BabyBitcoinBSC \\n\\n📆Date: NOVEMBER 11TH - NOVEMBER 17TH 📆\\n\\nSave the date and we will be even further Known! 🚀 #Bitcoin #BBTC #BTC #BABYBITCOIN #BNB #NY #TIMESQUARE https://t.co/ilDRqVMEdf, @IbaiLlanos 🚀 It’s confirmed and official ✅\\n\\nBaby Bitcoin $BBTC will officially be in Times Square 🤯@BabyBitcoinBSC \\n\\n📆Date: NOVEMBER 11TH - NOVEMBER 17TH 📆\\n\\nSave the date and we will be even further Known! 🚀 #Bitcoin #BBTC #BTC #BABYBITCOIN #BNB #NY #TIMESQUARE https://t.co/ilDRqVMEdf, @cripto_mi 🚀 It’s confirmed and official ✅\\n\\nBaby Bitcoin $BBTC will officially be in Times Square 🤯@BabyBitcoinBSC \\n\\n📆Date: NOVEMBER 11TH - NOVEMBER 17TH 📆\\n\\nSave the date and we will be even further Known! 🚀 #Bitcoin #BBTC #BTC #BABYBITCOIN #BNB #NY #TIMESQUARE https://t.co/ilDRqVMEdf, @MARCIANOPHONE 🚀 It’s confirmed and official ✅\\n\\nBaby Bitcoin $BBTC will officially be in Times Square 🤯@BabyBitcoinBSC \\n\\n📆Date: NOVEMBER 11TH - NOVEMBER 17TH 📆\\n\\nSave the date and we will be even further Known! 🚀 #Bitcoin #BBTC #BTC #BABYBITCOIN #BNB #NY #TIMESQUARE https://t.co/ilDRqVMEdf, @1goonrich 🚀 It’s confirmed and official ✅\\n\\nBaby Bitcoin $BBTC will officially be in Times Square 🤯@BabyBitcoinBSC \\n\\n📆Date: NOVEMBER 11TH - NOVEMBER 17TH 📆\\n\\nSave the date and we will be even further Known! 🚀 #Bitcoin #BBTC #BTC #BABYBITCOIN #BNB #NY #TIMESQUARE https://t.co/ilDRqVMEdf]   \n",
       "\n",
       "                                                                                                                og_index  \\\n",
       "user_name                                                                                                                  \n",
       "\"ОбвалОчный\" нОж\"Обвальщика\"                    [1335560, 1341715, 1341827, 1343320, 1343871, 1369039, 1369266, 1399650]   \n",
       "#BBTC 🚀                       [1627930, 1629097, 1630225, 1636473, 1636726, 1637299, 1637307, 1638178, 1638500, 1640932]   \n",
       "\n",
       "                                scores  \n",
       "user_name                               \n",
       "\"ОбвалОчный\" нОж\"Обвальщика\"  0.891953  \n",
       "#BBTC 🚀                       0.954697  "
      ]
     },
     "execution_count": 23,
     "metadata": {},
     "output_type": "execute_result"
    }
   ],
   "source": [
    "df_score_raw.query('scores > 0.7').head(2)"
   ]
  },
  {
   "cell_type": "code",
   "execution_count": 24,
   "metadata": {},
   "outputs": [],
   "source": [
    "df_agg = df_sample.copy()\n",
    "df_agg.insert(df_agg.shape[1],'IsBot_1',0)\n",
    "for row in df_score_raw.query('scores > 0.7').iterrows():\n",
    "    for index in row[-1][-2]:\n",
    "        df_agg.at[index,'IsBot_1'] = 1"
   ]
  },
  {
   "cell_type": "markdown",
   "metadata": {},
   "source": [
    "## KenJi's Algo #2"
   ]
  },
  {
   "cell_type": "code",
   "execution_count": 25,
   "metadata": {},
   "outputs": [
    {
     "data": {
      "text/html": [
       "<div>\n",
       "<style scoped>\n",
       "    .dataframe tbody tr th:only-of-type {\n",
       "        vertical-align: middle;\n",
       "    }\n",
       "\n",
       "    .dataframe tbody tr th {\n",
       "        vertical-align: top;\n",
       "    }\n",
       "\n",
       "    .dataframe thead th {\n",
       "        text-align: right;\n",
       "    }\n",
       "</style>\n",
       "<table border=\"1\" class=\"dataframe\">\n",
       "  <thead>\n",
       "    <tr style=\"text-align: right;\">\n",
       "      <th></th>\n",
       "      <th>user_verified_clean</th>\n",
       "      <th>user_name</th>\n",
       "      <th>user_location</th>\n",
       "      <th>user_description</th>\n",
       "      <th>user_created</th>\n",
       "      <th>user_followers</th>\n",
       "      <th>user_friends</th>\n",
       "      <th>user_favourites</th>\n",
       "      <th>user_verified</th>\n",
       "      <th>date</th>\n",
       "      <th>text</th>\n",
       "      <th>hashtags</th>\n",
       "      <th>is_retweet</th>\n",
       "      <th>og_index</th>\n",
       "    </tr>\n",
       "    <tr>\n",
       "      <th>source</th>\n",
       "      <th></th>\n",
       "      <th></th>\n",
       "      <th></th>\n",
       "      <th></th>\n",
       "      <th></th>\n",
       "      <th></th>\n",
       "      <th></th>\n",
       "      <th></th>\n",
       "      <th></th>\n",
       "      <th></th>\n",
       "      <th></th>\n",
       "      <th></th>\n",
       "      <th></th>\n",
       "      <th></th>\n",
       "    </tr>\n",
       "  </thead>\n",
       "  <tbody>\n",
       "    <tr>\n",
       "      <th>Twitter for Android</th>\n",
       "      <td>674912</td>\n",
       "      <td>674897</td>\n",
       "      <td>290973</td>\n",
       "      <td>540305</td>\n",
       "      <td>674912</td>\n",
       "      <td>674912</td>\n",
       "      <td>674912</td>\n",
       "      <td>674912</td>\n",
       "      <td>674912</td>\n",
       "      <td>674912</td>\n",
       "      <td>674912</td>\n",
       "      <td>672130</td>\n",
       "      <td>674912</td>\n",
       "      <td>674912</td>\n",
       "    </tr>\n",
       "    <tr>\n",
       "      <th>Twitter Web App</th>\n",
       "      <td>592042</td>\n",
       "      <td>592030</td>\n",
       "      <td>302329</td>\n",
       "      <td>517234</td>\n",
       "      <td>592042</td>\n",
       "      <td>592042</td>\n",
       "      <td>592042</td>\n",
       "      <td>592042</td>\n",
       "      <td>592042</td>\n",
       "      <td>592042</td>\n",
       "      <td>592042</td>\n",
       "      <td>585989</td>\n",
       "      <td>592042</td>\n",
       "      <td>592042</td>\n",
       "    </tr>\n",
       "    <tr>\n",
       "      <th>Twitter for iPhone</th>\n",
       "      <td>452024</td>\n",
       "      <td>452020</td>\n",
       "      <td>270511</td>\n",
       "      <td>405226</td>\n",
       "      <td>452024</td>\n",
       "      <td>452024</td>\n",
       "      <td>452024</td>\n",
       "      <td>452024</td>\n",
       "      <td>452024</td>\n",
       "      <td>452024</td>\n",
       "      <td>452024</td>\n",
       "      <td>449690</td>\n",
       "      <td>452024</td>\n",
       "      <td>452024</td>\n",
       "    </tr>\n",
       "    <tr>\n",
       "      <th>IFTTT</th>\n",
       "      <td>34394</td>\n",
       "      <td>34394</td>\n",
       "      <td>24824</td>\n",
       "      <td>32706</td>\n",
       "      <td>34394</td>\n",
       "      <td>34394</td>\n",
       "      <td>34394</td>\n",
       "      <td>34394</td>\n",
       "      <td>34394</td>\n",
       "      <td>34394</td>\n",
       "      <td>34394</td>\n",
       "      <td>34056</td>\n",
       "      <td>34394</td>\n",
       "      <td>34394</td>\n",
       "    </tr>\n",
       "    <tr>\n",
       "      <th>dlvr.it</th>\n",
       "      <td>28811</td>\n",
       "      <td>28811</td>\n",
       "      <td>15861</td>\n",
       "      <td>28531</td>\n",
       "      <td>28811</td>\n",
       "      <td>28811</td>\n",
       "      <td>28811</td>\n",
       "      <td>28811</td>\n",
       "      <td>28811</td>\n",
       "      <td>28811</td>\n",
       "      <td>28811</td>\n",
       "      <td>28788</td>\n",
       "      <td>28811</td>\n",
       "      <td>28811</td>\n",
       "    </tr>\n",
       "    <tr>\n",
       "      <th>ContentStudio.io</th>\n",
       "      <td>20045</td>\n",
       "      <td>20045</td>\n",
       "      <td>19446</td>\n",
       "      <td>19913</td>\n",
       "      <td>20045</td>\n",
       "      <td>20045</td>\n",
       "      <td>20045</td>\n",
       "      <td>20045</td>\n",
       "      <td>20045</td>\n",
       "      <td>20045</td>\n",
       "      <td>20045</td>\n",
       "      <td>19974</td>\n",
       "      <td>20045</td>\n",
       "      <td>20045</td>\n",
       "    </tr>\n",
       "    <tr>\n",
       "      <th>TweetDeck</th>\n",
       "      <td>19181</td>\n",
       "      <td>19181</td>\n",
       "      <td>11595</td>\n",
       "      <td>17979</td>\n",
       "      <td>19181</td>\n",
       "      <td>19181</td>\n",
       "      <td>19181</td>\n",
       "      <td>19181</td>\n",
       "      <td>19181</td>\n",
       "      <td>19181</td>\n",
       "      <td>19181</td>\n",
       "      <td>19023</td>\n",
       "      <td>19181</td>\n",
       "      <td>19181</td>\n",
       "    </tr>\n",
       "    <tr>\n",
       "      <th>Twitter for iPad</th>\n",
       "      <td>14394</td>\n",
       "      <td>14394</td>\n",
       "      <td>8902</td>\n",
       "      <td>13003</td>\n",
       "      <td>14394</td>\n",
       "      <td>14394</td>\n",
       "      <td>14394</td>\n",
       "      <td>14394</td>\n",
       "      <td>14394</td>\n",
       "      <td>14394</td>\n",
       "      <td>14394</td>\n",
       "      <td>14325</td>\n",
       "      <td>14394</td>\n",
       "      <td>14394</td>\n",
       "    </tr>\n",
       "    <tr>\n",
       "      <th>HoBaBot</th>\n",
       "      <td>13137</td>\n",
       "      <td>13137</td>\n",
       "      <td>0</td>\n",
       "      <td>13137</td>\n",
       "      <td>13137</td>\n",
       "      <td>13137</td>\n",
       "      <td>13137</td>\n",
       "      <td>13137</td>\n",
       "      <td>13137</td>\n",
       "      <td>13137</td>\n",
       "      <td>13137</td>\n",
       "      <td>13137</td>\n",
       "      <td>13137</td>\n",
       "      <td>13137</td>\n",
       "    </tr>\n",
       "    <tr>\n",
       "      <th>Bitcoin Whale Alert</th>\n",
       "      <td>11439</td>\n",
       "      <td>11439</td>\n",
       "      <td>0</td>\n",
       "      <td>11439</td>\n",
       "      <td>11439</td>\n",
       "      <td>11439</td>\n",
       "      <td>11439</td>\n",
       "      <td>11439</td>\n",
       "      <td>11439</td>\n",
       "      <td>11439</td>\n",
       "      <td>11439</td>\n",
       "      <td>11439</td>\n",
       "      <td>11439</td>\n",
       "      <td>11439</td>\n",
       "    </tr>\n",
       "    <tr>\n",
       "      <th>Hootsuite Inc.</th>\n",
       "      <td>10312</td>\n",
       "      <td>10312</td>\n",
       "      <td>8129</td>\n",
       "      <td>10041</td>\n",
       "      <td>10312</td>\n",
       "      <td>10312</td>\n",
       "      <td>10312</td>\n",
       "      <td>10312</td>\n",
       "      <td>10312</td>\n",
       "      <td>10312</td>\n",
       "      <td>10312</td>\n",
       "      <td>10176</td>\n",
       "      <td>10312</td>\n",
       "      <td>10312</td>\n",
       "    </tr>\n",
       "    <tr>\n",
       "      <th>Twibble.io</th>\n",
       "      <td>9802</td>\n",
       "      <td>9802</td>\n",
       "      <td>8056</td>\n",
       "      <td>9802</td>\n",
       "      <td>9802</td>\n",
       "      <td>9802</td>\n",
       "      <td>9802</td>\n",
       "      <td>9802</td>\n",
       "      <td>9802</td>\n",
       "      <td>9802</td>\n",
       "      <td>9802</td>\n",
       "      <td>9723</td>\n",
       "      <td>9802</td>\n",
       "      <td>9802</td>\n",
       "    </tr>\n",
       "    <tr>\n",
       "      <th>Buffer</th>\n",
       "      <td>9568</td>\n",
       "      <td>9568</td>\n",
       "      <td>5430</td>\n",
       "      <td>8185</td>\n",
       "      <td>9568</td>\n",
       "      <td>9568</td>\n",
       "      <td>9568</td>\n",
       "      <td>9568</td>\n",
       "      <td>9568</td>\n",
       "      <td>9568</td>\n",
       "      <td>9568</td>\n",
       "      <td>9488</td>\n",
       "      <td>9568</td>\n",
       "      <td>9568</td>\n",
       "    </tr>\n",
       "    <tr>\n",
       "      <th>bitcoinagile</th>\n",
       "      <td>9539</td>\n",
       "      <td>9539</td>\n",
       "      <td>9539</td>\n",
       "      <td>9539</td>\n",
       "      <td>9539</td>\n",
       "      <td>9539</td>\n",
       "      <td>9539</td>\n",
       "      <td>9539</td>\n",
       "      <td>9539</td>\n",
       "      <td>9539</td>\n",
       "      <td>9539</td>\n",
       "      <td>9539</td>\n",
       "      <td>9539</td>\n",
       "      <td>9539</td>\n",
       "    </tr>\n",
       "    <tr>\n",
       "      <th>CoinTweety</th>\n",
       "      <td>8016</td>\n",
       "      <td>8016</td>\n",
       "      <td>0</td>\n",
       "      <td>8016</td>\n",
       "      <td>8016</td>\n",
       "      <td>8016</td>\n",
       "      <td>8016</td>\n",
       "      <td>8016</td>\n",
       "      <td>8016</td>\n",
       "      <td>8016</td>\n",
       "      <td>8016</td>\n",
       "      <td>8016</td>\n",
       "      <td>8016</td>\n",
       "      <td>8016</td>\n",
       "    </tr>\n",
       "    <tr>\n",
       "      <th>TwinyBots</th>\n",
       "      <td>7156</td>\n",
       "      <td>7156</td>\n",
       "      <td>5450</td>\n",
       "      <td>7052</td>\n",
       "      <td>7156</td>\n",
       "      <td>7156</td>\n",
       "      <td>7156</td>\n",
       "      <td>7156</td>\n",
       "      <td>7156</td>\n",
       "      <td>7156</td>\n",
       "      <td>7156</td>\n",
       "      <td>7156</td>\n",
       "      <td>7156</td>\n",
       "      <td>7156</td>\n",
       "    </tr>\n",
       "    <tr>\n",
       "      <th>Pamboo Crypto</th>\n",
       "      <td>6541</td>\n",
       "      <td>6541</td>\n",
       "      <td>0</td>\n",
       "      <td>6528</td>\n",
       "      <td>6541</td>\n",
       "      <td>6541</td>\n",
       "      <td>6541</td>\n",
       "      <td>6541</td>\n",
       "      <td>6541</td>\n",
       "      <td>6541</td>\n",
       "      <td>6541</td>\n",
       "      <td>6541</td>\n",
       "      <td>6541</td>\n",
       "      <td>6541</td>\n",
       "    </tr>\n",
       "    <tr>\n",
       "      <th>DYORCryptoBot</th>\n",
       "      <td>6480</td>\n",
       "      <td>6480</td>\n",
       "      <td>6480</td>\n",
       "      <td>6480</td>\n",
       "      <td>6480</td>\n",
       "      <td>6480</td>\n",
       "      <td>6480</td>\n",
       "      <td>6480</td>\n",
       "      <td>6480</td>\n",
       "      <td>6480</td>\n",
       "      <td>6480</td>\n",
       "      <td>6480</td>\n",
       "      <td>6480</td>\n",
       "      <td>6480</td>\n",
       "    </tr>\n",
       "    <tr>\n",
       "      <th>tictoknextblock</th>\n",
       "      <td>6388</td>\n",
       "      <td>6388</td>\n",
       "      <td>0</td>\n",
       "      <td>6388</td>\n",
       "      <td>6388</td>\n",
       "      <td>6388</td>\n",
       "      <td>6388</td>\n",
       "      <td>6388</td>\n",
       "      <td>6388</td>\n",
       "      <td>6388</td>\n",
       "      <td>6388</td>\n",
       "      <td>6388</td>\n",
       "      <td>6388</td>\n",
       "      <td>6388</td>\n",
       "    </tr>\n",
       "    <tr>\n",
       "      <th>BlockScan</th>\n",
       "      <td>5955</td>\n",
       "      <td>5955</td>\n",
       "      <td>0</td>\n",
       "      <td>5955</td>\n",
       "      <td>5955</td>\n",
       "      <td>5955</td>\n",
       "      <td>5955</td>\n",
       "      <td>5955</td>\n",
       "      <td>5955</td>\n",
       "      <td>5955</td>\n",
       "      <td>5955</td>\n",
       "      <td>5955</td>\n",
       "      <td>5955</td>\n",
       "      <td>5955</td>\n",
       "    </tr>\n",
       "    <tr>\n",
       "      <th>Zapier.com</th>\n",
       "      <td>5821</td>\n",
       "      <td>5821</td>\n",
       "      <td>3264</td>\n",
       "      <td>5795</td>\n",
       "      <td>5821</td>\n",
       "      <td>5821</td>\n",
       "      <td>5821</td>\n",
       "      <td>5821</td>\n",
       "      <td>5821</td>\n",
       "      <td>5821</td>\n",
       "      <td>5821</td>\n",
       "      <td>5762</td>\n",
       "      <td>5821</td>\n",
       "      <td>5821</td>\n",
       "    </tr>\n",
       "    <tr>\n",
       "      <th>Microsoft Power Platform</th>\n",
       "      <td>5733</td>\n",
       "      <td>5733</td>\n",
       "      <td>5096</td>\n",
       "      <td>5730</td>\n",
       "      <td>5733</td>\n",
       "      <td>5733</td>\n",
       "      <td>5733</td>\n",
       "      <td>5733</td>\n",
       "      <td>5733</td>\n",
       "      <td>5733</td>\n",
       "      <td>5733</td>\n",
       "      <td>5733</td>\n",
       "      <td>5733</td>\n",
       "      <td>5733</td>\n",
       "    </tr>\n",
       "    <tr>\n",
       "      <th>Revive Social App</th>\n",
       "      <td>4997</td>\n",
       "      <td>4997</td>\n",
       "      <td>3360</td>\n",
       "      <td>4996</td>\n",
       "      <td>4997</td>\n",
       "      <td>4997</td>\n",
       "      <td>4997</td>\n",
       "      <td>4997</td>\n",
       "      <td>4997</td>\n",
       "      <td>4997</td>\n",
       "      <td>4997</td>\n",
       "      <td>4990</td>\n",
       "      <td>4997</td>\n",
       "      <td>4997</td>\n",
       "    </tr>\n",
       "    <tr>\n",
       "      <th>watchinwhales</th>\n",
       "      <td>4731</td>\n",
       "      <td>4731</td>\n",
       "      <td>0</td>\n",
       "      <td>4731</td>\n",
       "      <td>4731</td>\n",
       "      <td>4731</td>\n",
       "      <td>4731</td>\n",
       "      <td>4731</td>\n",
       "      <td>4731</td>\n",
       "      <td>4731</td>\n",
       "      <td>4731</td>\n",
       "      <td>4731</td>\n",
       "      <td>4731</td>\n",
       "      <td>4731</td>\n",
       "    </tr>\n",
       "    <tr>\n",
       "      <th>BitSwingsTwit</th>\n",
       "      <td>4695</td>\n",
       "      <td>4695</td>\n",
       "      <td>0</td>\n",
       "      <td>4695</td>\n",
       "      <td>4695</td>\n",
       "      <td>4695</td>\n",
       "      <td>4695</td>\n",
       "      <td>4695</td>\n",
       "      <td>4695</td>\n",
       "      <td>4695</td>\n",
       "      <td>4695</td>\n",
       "      <td>4695</td>\n",
       "      <td>4695</td>\n",
       "      <td>4695</td>\n",
       "    </tr>\n",
       "    <tr>\n",
       "      <th>CryptoSquawkBot</th>\n",
       "      <td>4693</td>\n",
       "      <td>4693</td>\n",
       "      <td>4693</td>\n",
       "      <td>4693</td>\n",
       "      <td>4693</td>\n",
       "      <td>4693</td>\n",
       "      <td>4693</td>\n",
       "      <td>4693</td>\n",
       "      <td>4693</td>\n",
       "      <td>4693</td>\n",
       "      <td>4693</td>\n",
       "      <td>4693</td>\n",
       "      <td>4693</td>\n",
       "      <td>4693</td>\n",
       "    </tr>\n",
       "    <tr>\n",
       "      <th>Crypto Volume Details</th>\n",
       "      <td>4594</td>\n",
       "      <td>4594</td>\n",
       "      <td>4594</td>\n",
       "      <td>4594</td>\n",
       "      <td>4594</td>\n",
       "      <td>4594</td>\n",
       "      <td>4594</td>\n",
       "      <td>4594</td>\n",
       "      <td>4594</td>\n",
       "      <td>4594</td>\n",
       "      <td>4594</td>\n",
       "      <td>4594</td>\n",
       "      <td>4594</td>\n",
       "      <td>4594</td>\n",
       "    </tr>\n",
       "    <tr>\n",
       "      <th>Bitmex High Trades</th>\n",
       "      <td>4439</td>\n",
       "      <td>4439</td>\n",
       "      <td>1</td>\n",
       "      <td>4439</td>\n",
       "      <td>4439</td>\n",
       "      <td>4439</td>\n",
       "      <td>4439</td>\n",
       "      <td>4439</td>\n",
       "      <td>4439</td>\n",
       "      <td>4439</td>\n",
       "      <td>4439</td>\n",
       "      <td>4439</td>\n",
       "      <td>4439</td>\n",
       "      <td>4439</td>\n",
       "    </tr>\n",
       "    <tr>\n",
       "      <th>exchangewhales</th>\n",
       "      <td>4317</td>\n",
       "      <td>4317</td>\n",
       "      <td>0</td>\n",
       "      <td>4317</td>\n",
       "      <td>4317</td>\n",
       "      <td>4317</td>\n",
       "      <td>4317</td>\n",
       "      <td>4317</td>\n",
       "      <td>4317</td>\n",
       "      <td>4317</td>\n",
       "      <td>4317</td>\n",
       "      <td>4317</td>\n",
       "      <td>4317</td>\n",
       "      <td>4317</td>\n",
       "    </tr>\n",
       "    <tr>\n",
       "      <th>0xनमस्ते</th>\n",
       "      <td>4294</td>\n",
       "      <td>4294</td>\n",
       "      <td>4294</td>\n",
       "      <td>4294</td>\n",
       "      <td>4294</td>\n",
       "      <td>4294</td>\n",
       "      <td>4294</td>\n",
       "      <td>4294</td>\n",
       "      <td>4294</td>\n",
       "      <td>4294</td>\n",
       "      <td>4294</td>\n",
       "      <td>4294</td>\n",
       "      <td>4294</td>\n",
       "      <td>4294</td>\n",
       "    </tr>\n",
       "  </tbody>\n",
       "</table>\n",
       "</div>"
      ],
      "text/plain": [
       "                          user_verified_clean  user_name  user_location  \\\n",
       "source                                                                    \n",
       "Twitter for Android                    674912     674897         290973   \n",
       "Twitter Web App                        592042     592030         302329   \n",
       "Twitter for iPhone                     452024     452020         270511   \n",
       "IFTTT                                   34394      34394          24824   \n",
       "dlvr.it                                 28811      28811          15861   \n",
       "ContentStudio.io                        20045      20045          19446   \n",
       "TweetDeck                               19181      19181          11595   \n",
       "Twitter for iPad                        14394      14394           8902   \n",
       "HoBaBot                                 13137      13137              0   \n",
       "Bitcoin Whale Alert                     11439      11439              0   \n",
       "Hootsuite Inc.                          10312      10312           8129   \n",
       "Twibble.io                               9802       9802           8056   \n",
       "Buffer                                   9568       9568           5430   \n",
       "bitcoinagile                             9539       9539           9539   \n",
       "CoinTweety                               8016       8016              0   \n",
       "TwinyBots                                7156       7156           5450   \n",
       "Pamboo Crypto                            6541       6541              0   \n",
       "DYORCryptoBot                            6480       6480           6480   \n",
       "tictoknextblock                          6388       6388              0   \n",
       "BlockScan                                5955       5955              0   \n",
       "Zapier.com                               5821       5821           3264   \n",
       "Microsoft Power Platform                 5733       5733           5096   \n",
       "Revive Social App                        4997       4997           3360   \n",
       "watchinwhales                            4731       4731              0   \n",
       "BitSwingsTwit                            4695       4695              0   \n",
       "CryptoSquawkBot                          4693       4693           4693   \n",
       "Crypto Volume Details                    4594       4594           4594   \n",
       "Bitmex High Trades                       4439       4439              1   \n",
       "exchangewhales                           4317       4317              0   \n",
       "0xनमस्ते                                 4294       4294           4294   \n",
       "\n",
       "                          user_description  user_created  user_followers  \\\n",
       "source                                                                     \n",
       "Twitter for Android                 540305        674912          674912   \n",
       "Twitter Web App                     517234        592042          592042   \n",
       "Twitter for iPhone                  405226        452024          452024   \n",
       "IFTTT                                32706         34394           34394   \n",
       "dlvr.it                              28531         28811           28811   \n",
       "ContentStudio.io                     19913         20045           20045   \n",
       "TweetDeck                            17979         19181           19181   \n",
       "Twitter for iPad                     13003         14394           14394   \n",
       "HoBaBot                              13137         13137           13137   \n",
       "Bitcoin Whale Alert                  11439         11439           11439   \n",
       "Hootsuite Inc.                       10041         10312           10312   \n",
       "Twibble.io                            9802          9802            9802   \n",
       "Buffer                                8185          9568            9568   \n",
       "bitcoinagile                          9539          9539            9539   \n",
       "CoinTweety                            8016          8016            8016   \n",
       "TwinyBots                             7052          7156            7156   \n",
       "Pamboo Crypto                         6528          6541            6541   \n",
       "DYORCryptoBot                         6480          6480            6480   \n",
       "tictoknextblock                       6388          6388            6388   \n",
       "BlockScan                             5955          5955            5955   \n",
       "Zapier.com                            5795          5821            5821   \n",
       "Microsoft Power Platform              5730          5733            5733   \n",
       "Revive Social App                     4996          4997            4997   \n",
       "watchinwhales                         4731          4731            4731   \n",
       "BitSwingsTwit                         4695          4695            4695   \n",
       "CryptoSquawkBot                       4693          4693            4693   \n",
       "Crypto Volume Details                 4594          4594            4594   \n",
       "Bitmex High Trades                    4439          4439            4439   \n",
       "exchangewhales                        4317          4317            4317   \n",
       "0xनमस्ते                              4294          4294            4294   \n",
       "\n",
       "                          user_friends  user_favourites  user_verified  \\\n",
       "source                                                                   \n",
       "Twitter for Android             674912           674912         674912   \n",
       "Twitter Web App                 592042           592042         592042   \n",
       "Twitter for iPhone              452024           452024         452024   \n",
       "IFTTT                            34394            34394          34394   \n",
       "dlvr.it                          28811            28811          28811   \n",
       "ContentStudio.io                 20045            20045          20045   \n",
       "TweetDeck                        19181            19181          19181   \n",
       "Twitter for iPad                 14394            14394          14394   \n",
       "HoBaBot                          13137            13137          13137   \n",
       "Bitcoin Whale Alert              11439            11439          11439   \n",
       "Hootsuite Inc.                   10312            10312          10312   \n",
       "Twibble.io                        9802             9802           9802   \n",
       "Buffer                            9568             9568           9568   \n",
       "bitcoinagile                      9539             9539           9539   \n",
       "CoinTweety                        8016             8016           8016   \n",
       "TwinyBots                         7156             7156           7156   \n",
       "Pamboo Crypto                     6541             6541           6541   \n",
       "DYORCryptoBot                     6480             6480           6480   \n",
       "tictoknextblock                   6388             6388           6388   \n",
       "BlockScan                         5955             5955           5955   \n",
       "Zapier.com                        5821             5821           5821   \n",
       "Microsoft Power Platform          5733             5733           5733   \n",
       "Revive Social App                 4997             4997           4997   \n",
       "watchinwhales                     4731             4731           4731   \n",
       "BitSwingsTwit                     4695             4695           4695   \n",
       "CryptoSquawkBot                   4693             4693           4693   \n",
       "Crypto Volume Details             4594             4594           4594   \n",
       "Bitmex High Trades                4439             4439           4439   \n",
       "exchangewhales                    4317             4317           4317   \n",
       "0xनमस्ते                          4294             4294           4294   \n",
       "\n",
       "                            date    text  hashtags  is_retweet  og_index  \n",
       "source                                                                    \n",
       "Twitter for Android       674912  674912    672130      674912    674912  \n",
       "Twitter Web App           592042  592042    585989      592042    592042  \n",
       "Twitter for iPhone        452024  452024    449690      452024    452024  \n",
       "IFTTT                      34394   34394     34056       34394     34394  \n",
       "dlvr.it                    28811   28811     28788       28811     28811  \n",
       "ContentStudio.io           20045   20045     19974       20045     20045  \n",
       "TweetDeck                  19181   19181     19023       19181     19181  \n",
       "Twitter for iPad           14394   14394     14325       14394     14394  \n",
       "HoBaBot                    13137   13137     13137       13137     13137  \n",
       "Bitcoin Whale Alert        11439   11439     11439       11439     11439  \n",
       "Hootsuite Inc.             10312   10312     10176       10312     10312  \n",
       "Twibble.io                  9802    9802      9723        9802      9802  \n",
       "Buffer                      9568    9568      9488        9568      9568  \n",
       "bitcoinagile                9539    9539      9539        9539      9539  \n",
       "CoinTweety                  8016    8016      8016        8016      8016  \n",
       "TwinyBots                   7156    7156      7156        7156      7156  \n",
       "Pamboo Crypto               6541    6541      6541        6541      6541  \n",
       "DYORCryptoBot               6480    6480      6480        6480      6480  \n",
       "tictoknextblock             6388    6388      6388        6388      6388  \n",
       "BlockScan                   5955    5955      5955        5955      5955  \n",
       "Zapier.com                  5821    5821      5762        5821      5821  \n",
       "Microsoft Power Platform    5733    5733      5733        5733      5733  \n",
       "Revive Social App           4997    4997      4990        4997      4997  \n",
       "watchinwhales               4731    4731      4731        4731      4731  \n",
       "BitSwingsTwit               4695    4695      4695        4695      4695  \n",
       "CryptoSquawkBot             4693    4693      4693        4693      4693  \n",
       "Crypto Volume Details       4594    4594      4594        4594      4594  \n",
       "Bitmex High Trades          4439    4439      4439        4439      4439  \n",
       "exchangewhales              4317    4317      4317        4317      4317  \n",
       "0xनमस्ते                    4294    4294      4294        4294      4294  "
      ]
     },
     "execution_count": 25,
     "metadata": {},
     "output_type": "execute_result"
    }
   ],
   "source": [
    "df_sample.groupby('source').count().sort_values('user_name',ascending=False).head(30)"
   ]
  },
  {
   "cell_type": "code",
   "execution_count": 26,
   "metadata": {},
   "outputs": [],
   "source": [
    "IDX_UD = list(df_sample[[True if i else False for i in df_sample.user_description.str.contains('bot',case = False, na = False)]].index)\n",
    "\n",
    "IDX_Source_bot = list(df_sample[(df_sample['source'].str.contains('bot', case = False, na = False)) \n",
    "            & (df_sample['source'] != 'Tweetbot for iΟS')]['source'].index) #Tweetbot is an app name - not bot\n",
    "\n",
    "IDX_Source_crypto = list(df_sample[(df_sample['source'].str.contains('crypto', case = False, na = False))]['source'].index) #Tweetbot is an app name - not bot\n",
    "\n",
    "IDX_Name = list(df_sample[[True if i else False for i in df_sample.user_name.str.contains('bot',case = False, na = False)]].index)\n",
    "\n",
    "IDX_agg = set(IDX_Name+IDX_UD+IDX_Source_bot+IDX_Source_crypto)"
   ]
  },
  {
   "cell_type": "code",
   "execution_count": 27,
   "metadata": {},
   "outputs": [],
   "source": [
    "try:\n",
    "    df_agg.insert(df_agg.shape[1],'IsBot_2',0)\n",
    "except:\n",
    "    pass \n",
    "for index in IDX_agg:\n",
    "    df_agg.at[index,'IsBot_2'] = 1"
   ]
  },
  {
   "cell_type": "code",
   "execution_count": 28,
   "metadata": {},
   "outputs": [
    {
     "data": {
      "text/html": [
       "<div>\n",
       "<style scoped>\n",
       "    .dataframe tbody tr th:only-of-type {\n",
       "        vertical-align: middle;\n",
       "    }\n",
       "\n",
       "    .dataframe tbody tr th {\n",
       "        vertical-align: top;\n",
       "    }\n",
       "\n",
       "    .dataframe thead th {\n",
       "        text-align: right;\n",
       "    }\n",
       "</style>\n",
       "<table border=\"1\" class=\"dataframe\">\n",
       "  <thead>\n",
       "    <tr style=\"text-align: right;\">\n",
       "      <th>IsBot_2</th>\n",
       "      <th>0</th>\n",
       "      <th>1</th>\n",
       "    </tr>\n",
       "    <tr>\n",
       "      <th>IsBot_1</th>\n",
       "      <th></th>\n",
       "      <th></th>\n",
       "    </tr>\n",
       "  </thead>\n",
       "  <tbody>\n",
       "    <tr>\n",
       "      <th>0</th>\n",
       "      <td>1926398</td>\n",
       "      <td>121092</td>\n",
       "    </tr>\n",
       "    <tr>\n",
       "      <th>1</th>\n",
       "      <td>171584</td>\n",
       "      <td>65852</td>\n",
       "    </tr>\n",
       "  </tbody>\n",
       "</table>\n",
       "</div>"
      ],
      "text/plain": [
       "IsBot_2        0       1\n",
       "IsBot_1                 \n",
       "0        1926398  121092\n",
       "1         171584   65852"
      ]
     },
     "execution_count": 28,
     "metadata": {},
     "output_type": "execute_result"
    }
   ],
   "source": [
    "pd.crosstab(df_agg['IsBot_1'],df_agg['IsBot_2'])"
   ]
  },
  {
   "cell_type": "code",
   "execution_count": 31,
   "metadata": {},
   "outputs": [],
   "source": [
    "df_agg.to_csv('twt_text_handpicked_bots.csv')"
   ]
  },
  {
   "cell_type": "markdown",
   "metadata": {},
   "source": [
    "# Clean Data"
   ]
  },
  {
   "cell_type": "code",
   "execution_count": 38,
   "metadata": {},
   "outputs": [
    {
     "name": "stdout",
     "output_type": "stream",
     "text": [
      "Original:\n",
      "Annnd #btc #Bitcoin is headed even higher now... https://t.co/EHAduI087d\n",
      "______________________\n"
     ]
    },
    {
     "data": {
      "application/vnd.jupyter.widget-view+json": {
       "model_id": "0879fd5f886244e7a95161e188ca7c7a",
       "version_major": 2,
       "version_minor": 0
      },
      "text/plain": [
       "  0%|          | 0/2284926 [00:00<?, ?it/s]"
      ]
     },
     "metadata": {},
     "output_type": "display_data"
    },
    {
     "name": "stdout",
     "output_type": "stream",
     "text": [
      "Error: nan\n",
      "Error: nan\n"
     ]
    }
   ],
   "source": [
    "#Cleaning the urls\n",
    "DEFAULT_CLEAN_PROCEDURE = (\n",
    "    ('modify','Lower'),\n",
    "    ('modify','SimilarWords'),\n",
    "    ('remove','URL'),\n",
    "    ('remove','Emoji'),\n",
    "    ('remove','SpecialCharacters'),\n",
    "    ('remove','ExtraSpaces'),\n",
    "    ('remove','BegingEndSpace'),\n",
    ")\n",
    "tr = TextCleaner(DEFAULT_CLEAN_PROCEDURE)\n",
    "print(\"Original:\")\n",
    "print(df_sample.text.iloc[10])\n",
    "print(\"______________________\")\n",
    "tr.clean(df_sample.text.iloc[10]) #Remove url of a given str \n",
    "\n",
    "#Clean all the text in the dataframe \n",
    "df_clean = df_agg.copy()\n",
    "for index in tqdm(df_clean.index):\n",
    "    try:\n",
    "        df_clean.at[index,'text'] = tr.clean(df_clean.at[index,'text'])\n",
    "    except:\n",
    "        print(\"Error:\",df_clean.at[index,'text'])"
   ]
  },
  {
   "cell_type": "markdown",
   "metadata": {},
   "source": [
    "# Part2:Use clustering algorithm to identify the bot clusters"
   ]
  },
  {
   "cell_type": "code",
   "execution_count": 40,
   "metadata": {},
   "outputs": [],
   "source": [
    "df_clean.to_csv('twt_text_handpicked_bots_Cleaned.csv')"
   ]
  },
  {
   "cell_type": "code",
   "execution_count": 42,
   "metadata": {},
   "outputs": [],
   "source": [
    "#Vectorize the data\n",
    "bot_classification = df_agg.copy()\n",
    "#IsBot_1 == 0 and IsBot_2 == 0\n",
    "bot_classification['ISbot'] = df_agg.IsBot_1.multiply(df_agg.IsBot_2)\n",
    "bot_classification = bot_classification.dropna(subset=['text'])\n",
    "corpus = bot_classification['text'].apply(lambda x : x.split(' '))"
   ]
  },
  {
   "cell_type": "code",
   "execution_count": 46,
   "metadata": {},
   "outputs": [
    {
     "data": {
      "text/plain": [
       "0                            [Blue, Ridge, Bank, shares, halted, by, NYSE, after, #bitcoin, ATM, announcement, https://t.co/xaaZmaJKiV, @MyBlueRidgeBank…, https://t.co/sgBxMkP1SI]\n",
       "1                [😎, Today,, that's, this, #Thursday,, we, will, do, a, \"🎬, Take, 2\", with, our, friend, @LeoWandersleb,, #Btc, #wallet, #security, expe…, https://t.co/go6aDgRml5]\n",
       "2                     [Guys, evening,, I, have, read, this, article, about, BTC, and, would, like, to, share, with, you, all, -, https://t.co/QxCZgmuy3B…, https://t.co/o6wn7ppkVY]\n",
       "3                                                                    [$BTC, A, big, chance, in, a, billion!, Price:, \\4872644.0, (2021/02/11, 08:51), #Bitcoin, #FX, #BTC, #crypto]\n",
       "4             [This, network, is, secured, by, 9, 508, nodes, as, of, today., Soon,, the, biggest, bears, will, recognise:, #BTC, in, too, big, to, fail…, https://t.co/1XovDA8rKw]\n",
       "                                                                                          ...                                                                                      \n",
       "95                                                         [Bitcoin, BTC, Current, Price:\\n$45,161.73\\n1, Hour:, 1.21%, |, 24, Hours:, -4.05%, |, 7, Days:, 21.40%\\n#btc, #bitcoin]\n",
       "96                  [@michael_saylor, Advertising, tactic, called, \"linking\", trying, to, get, people, to, link, #Bitcoin, with, Buffet,, before, it, wa…, https://t.co/xFGEERjA9z]\n",
       "97    [🔄, Prices, update, in, $USD, (1, hour):\\n\\n$BTC, , , -, 45081.8, $, , , (+0.18, %)\\n$ETH, , , -, 1744.82, $, , , (+0.74, %)\\n$XRP, , , -, 0.51, $…, https://t.co/An5o1nj9vr]\n",
       "98                      [just, added, Episode, 25, -, Insane, 888ETH, ($1.5M), Genesis, Land, Sale!, by, Axie, Chat\\nhttps://t.co/9CMTsI27hw\\n#DeFi, #BTC, #ETH, #BITCOIN, #CRYPTO]\n",
       "99                                                        [$FTM, is, looking, super, amazing., Should, easily, do, 400., 🚀, \\n\\n#Bitcoin, #BTC, #dogecoin, https://t.co/0tPqv2CVkY]\n",
       "Name: text, Length: 100, dtype: object"
      ]
     },
     "execution_count": 46,
     "metadata": {},
     "output_type": "execute_result"
    }
   ],
   "source": []
  },
  {
   "cell_type": "code",
   "execution_count": 56,
   "metadata": {},
   "outputs": [],
   "source": [
    "from gensim.models import Word2Vec\n",
    "count_matrix = Word2Vec(corpus)"
   ]
  },
  {
   "cell_type": "code",
   "execution_count": 57,
   "metadata": {},
   "outputs": [],
   "source": [
    "w2v_vectors = count_matrix.wv.vectors # here you load vectors for each word in your model\n",
    "w2v_indices = count_matrix.wv.key_to_index"
   ]
  },
  {
   "cell_type": "code",
   "execution_count": 59,
   "metadata": {},
   "outputs": [],
   "source": [
    "import numpy as np\n",
    "def vectorize(line): \n",
    "    words = []\n",
    "    for word in line: # line - iterable, for example list of tokens \n",
    "        try:\n",
    "            w2v_idx = w2v_indices[word]\n",
    "        except KeyError: # if you does not have a vector for this word in your w2v model, continue \n",
    "            continue\n",
    "        words.append(w2v_vectors[w2v_idx])\n",
    "        if words: \n",
    "            words = np.asarray(words)\n",
    "            min_vec = words.min(axis=0)\n",
    "            max_vec = words.max(axis=0)\n",
    "            return np.concatenate((min_vec, max_vec))\n",
    "        if not words:\n",
    "            return None \n",
    "\n",
    "bot_classification['text_vec'] = bot_classification['text'].apply(vectorize)"
   ]
  },
  {
   "cell_type": "code",
   "execution_count": 66,
   "metadata": {},
   "outputs": [],
   "source": [
    "unique_user = bot_classification.drop_duplicates(subset=['user_name'])"
   ]
  },
  {
   "cell_type": "code",
   "execution_count": 68,
   "metadata": {},
   "outputs": [],
   "source": [
    "user_vectors = pd.DataFrame(unique_user['text_vec'].to_list())"
   ]
  },
  {
   "cell_type": "markdown",
   "metadata": {},
   "source": [
    "# Dimension Reduction before clustering:"
   ]
  },
  {
   "cell_type": "code",
   "execution_count": 78,
   "metadata": {},
   "outputs": [
    {
     "data": {
      "application/vnd.jupyter.widget-view+json": {
       "model_id": "bfa49c0f7b9d4044bca0e28ca6b67986",
       "version_major": 2,
       "version_minor": 0
      },
      "text/plain": [
       "  0%|          | 0/24 [00:00<?, ?it/s]"
      ]
     },
     "metadata": {},
     "output_type": "display_data"
    }
   ],
   "source": [
    "from sklearn.decomposition import PCA\n",
    "# count_matrix.wv.key_to_index\n",
    "# vectors = count_matrix.wv.vectors\n",
    "# words = list(count_matrix.wv.key_to_index)\n",
    "_dct = {}\n",
    "for n_components in tqdm(range(1,25)):\n",
    "    pca = PCA(n_components=n_components)\n",
    "    PCA_result = pca.fit_transform(user_vectors)\n",
    "    _dct[n_components] = sum(pca.explained_variance_ratio_) "
   ]
  },
  {
   "cell_type": "code",
   "execution_count": 80,
   "metadata": {},
   "outputs": [
    {
     "data": {
      "text/plain": [
       "Text(0.5, 1.0, 'Elbow plot to identify appropriate N-compoents')"
      ]
     },
     "execution_count": 80,
     "metadata": {},
     "output_type": "execute_result"
    },
    {
     "data": {
      "image/png": "[encoded data removed]",
      "text/plain": [
       "<Figure size 432x288 with 1 Axes>"
      ]
     },
     "metadata": {
      "needs_background": "light"
     },
     "output_type": "display_data"
    }
   ],
   "source": [
    "plt.plot(_dct.values())\n",
    "plt.title('Elbow plot to identify appropriate N-compoents')"
   ]
  },
  {
   "cell_type": "code",
   "execution_count": 82,
   "metadata": {},
   "outputs": [
    {
     "data": {
      "text/plain": [
       "0.9145533048207486"
      ]
     },
     "execution_count": 82,
     "metadata": {},
     "output_type": "execute_result"
    }
   ],
   "source": [
    "pca = PCA(n_components=7)\n",
    "PCA_result = pca.fit_transform(user_vectors)\n",
    "sum(pca.explained_variance_ratio_) #0.914% variance was preserved by reducing n_compoents to 7"
   ]
  },
  {
   "cell_type": "markdown",
   "metadata": {},
   "source": [
    "# Cluster the data"
   ]
  },
  {
   "cell_type": "code",
   "execution_count": 83,
   "metadata": {},
   "outputs": [],
   "source": [
    "from sklearn.cluster import KMeans"
   ]
  },
  {
   "cell_type": "code",
   "execution_count": 85,
   "metadata": {},
   "outputs": [
    {
     "data": {
      "text/plain": [
       "KMeans(n_clusters=100)"
      ]
     },
     "execution_count": 85,
     "metadata": {},
     "output_type": "execute_result"
    }
   ],
   "source": [
    "kmeans = KMeans(n_clusters=100)\n",
    "kmeans.fit(PCA_result)"
   ]
  },
  {
   "cell_type": "code",
   "execution_count": 96,
   "metadata": {},
   "outputs": [],
   "source": [
    "test_cluster = unique_user.copy()\n",
    "test_cluster['cluster_K'] = kmeans.labels_ #Incorperate results"
   ]
  },
  {
   "cell_type": "code",
   "execution_count": 101,
   "metadata": {},
   "outputs": [
    {
     "data": {
      "text/html": [
       "<div>\n",
       "<style scoped>\n",
       "    .dataframe tbody tr th:only-of-type {\n",
       "        vertical-align: middle;\n",
       "    }\n",
       "\n",
       "    .dataframe tbody tr th {\n",
       "        vertical-align: top;\n",
       "    }\n",
       "\n",
       "    .dataframe thead th {\n",
       "        text-align: right;\n",
       "    }\n",
       "</style>\n",
       "<table border=\"1\" class=\"dataframe\">\n",
       "  <thead>\n",
       "    <tr style=\"text-align: right;\">\n",
       "      <th></th>\n",
       "      <th>IsBot_1</th>\n",
       "      <th>IsBot_2</th>\n",
       "      <th>ISbot</th>\n",
       "    </tr>\n",
       "    <tr>\n",
       "      <th>cluster_K</th>\n",
       "      <th></th>\n",
       "      <th></th>\n",
       "      <th></th>\n",
       "    </tr>\n",
       "  </thead>\n",
       "  <tbody>\n",
       "    <tr>\n",
       "      <th>88</th>\n",
       "      <td>0.071429</td>\n",
       "      <td>0.142857</td>\n",
       "      <td>0.035714</td>\n",
       "    </tr>\n",
       "    <tr>\n",
       "      <th>36</th>\n",
       "      <td>0.047619</td>\n",
       "      <td>0.063492</td>\n",
       "      <td>0.031746</td>\n",
       "    </tr>\n",
       "    <tr>\n",
       "      <th>51</th>\n",
       "      <td>0.076923</td>\n",
       "      <td>0.097902</td>\n",
       "      <td>0.027972</td>\n",
       "    </tr>\n",
       "    <tr>\n",
       "      <th>99</th>\n",
       "      <td>0.030120</td>\n",
       "      <td>0.078313</td>\n",
       "      <td>0.024096</td>\n",
       "    </tr>\n",
       "    <tr>\n",
       "      <th>85</th>\n",
       "      <td>0.059524</td>\n",
       "      <td>0.071429</td>\n",
       "      <td>0.023810</td>\n",
       "    </tr>\n",
       "    <tr>\n",
       "      <th>...</th>\n",
       "      <td>...</td>\n",
       "      <td>...</td>\n",
       "      <td>...</td>\n",
       "    </tr>\n",
       "    <tr>\n",
       "      <th>63</th>\n",
       "      <td>0.005102</td>\n",
       "      <td>0.010204</td>\n",
       "      <td>0.000000</td>\n",
       "    </tr>\n",
       "    <tr>\n",
       "      <th>28</th>\n",
       "      <td>0.006639</td>\n",
       "      <td>0.012294</td>\n",
       "      <td>0.000000</td>\n",
       "    </tr>\n",
       "    <tr>\n",
       "      <th>65</th>\n",
       "      <td>0.013699</td>\n",
       "      <td>0.013699</td>\n",
       "      <td>0.000000</td>\n",
       "    </tr>\n",
       "    <tr>\n",
       "      <th>66</th>\n",
       "      <td>0.010638</td>\n",
       "      <td>0.010638</td>\n",
       "      <td>0.000000</td>\n",
       "    </tr>\n",
       "    <tr>\n",
       "      <th>50</th>\n",
       "      <td>0.009756</td>\n",
       "      <td>0.019512</td>\n",
       "      <td>0.000000</td>\n",
       "    </tr>\n",
       "  </tbody>\n",
       "</table>\n",
       "<p>100 rows × 3 columns</p>\n",
       "</div>"
      ],
      "text/plain": [
       "            IsBot_1   IsBot_2     ISbot\n",
       "cluster_K                              \n",
       "88         0.071429  0.142857  0.035714\n",
       "36         0.047619  0.063492  0.031746\n",
       "51         0.076923  0.097902  0.027972\n",
       "99         0.030120  0.078313  0.024096\n",
       "85         0.059524  0.071429  0.023810\n",
       "...             ...       ...       ...\n",
       "63         0.005102  0.010204  0.000000\n",
       "28         0.006639  0.012294  0.000000\n",
       "65         0.013699  0.013699  0.000000\n",
       "66         0.010638  0.010638  0.000000\n",
       "50         0.009756  0.019512  0.000000\n",
       "\n",
       "[100 rows x 3 columns]"
      ]
     },
     "execution_count": 101,
     "metadata": {},
     "output_type": "execute_result"
    }
   ],
   "source": [
    "Cluster_Res = test_cluster[['IsBot_1','IsBot_2','ISbot','cluster_K']].groupby(['cluster_K']).mean().sort_values('ISbot',ascending=False)\n",
    "Cluster_Res"
   ]
  },
  {
   "cell_type": "code",
   "execution_count": 149,
   "metadata": {},
   "outputs": [
    {
     "data": {
      "text/html": [
       "<div>\n",
       "<style scoped>\n",
       "    .dataframe tbody tr th:only-of-type {\n",
       "        vertical-align: middle;\n",
       "    }\n",
       "\n",
       "    .dataframe tbody tr th {\n",
       "        vertical-align: top;\n",
       "    }\n",
       "\n",
       "    .dataframe thead th {\n",
       "        text-align: right;\n",
       "    }\n",
       "</style>\n",
       "<table border=\"1\" class=\"dataframe\">\n",
       "  <thead>\n",
       "    <tr style=\"text-align: right;\">\n",
       "      <th></th>\n",
       "      <th>IsBot_1</th>\n",
       "      <th>IsBot_2</th>\n",
       "      <th>ISbot</th>\n",
       "    </tr>\n",
       "    <tr>\n",
       "      <th>cluster_K</th>\n",
       "      <th></th>\n",
       "      <th></th>\n",
       "      <th></th>\n",
       "    </tr>\n",
       "  </thead>\n",
       "  <tbody>\n",
       "    <tr>\n",
       "      <th>88</th>\n",
       "      <td>0.071429</td>\n",
       "      <td>0.142857</td>\n",
       "      <td>0.035714</td>\n",
       "    </tr>\n",
       "    <tr>\n",
       "      <th>36</th>\n",
       "      <td>0.047619</td>\n",
       "      <td>0.063492</td>\n",
       "      <td>0.031746</td>\n",
       "    </tr>\n",
       "    <tr>\n",
       "      <th>51</th>\n",
       "      <td>0.076923</td>\n",
       "      <td>0.097902</td>\n",
       "      <td>0.027972</td>\n",
       "    </tr>\n",
       "    <tr>\n",
       "      <th>99</th>\n",
       "      <td>0.030120</td>\n",
       "      <td>0.078313</td>\n",
       "      <td>0.024096</td>\n",
       "    </tr>\n",
       "    <tr>\n",
       "      <th>85</th>\n",
       "      <td>0.059524</td>\n",
       "      <td>0.071429</td>\n",
       "      <td>0.023810</td>\n",
       "    </tr>\n",
       "    <tr>\n",
       "      <th>...</th>\n",
       "      <td>...</td>\n",
       "      <td>...</td>\n",
       "      <td>...</td>\n",
       "    </tr>\n",
       "    <tr>\n",
       "      <th>63</th>\n",
       "      <td>0.005102</td>\n",
       "      <td>0.010204</td>\n",
       "      <td>0.000000</td>\n",
       "    </tr>\n",
       "    <tr>\n",
       "      <th>28</th>\n",
       "      <td>0.006639</td>\n",
       "      <td>0.012294</td>\n",
       "      <td>0.000000</td>\n",
       "    </tr>\n",
       "    <tr>\n",
       "      <th>65</th>\n",
       "      <td>0.013699</td>\n",
       "      <td>0.013699</td>\n",
       "      <td>0.000000</td>\n",
       "    </tr>\n",
       "    <tr>\n",
       "      <th>66</th>\n",
       "      <td>0.010638</td>\n",
       "      <td>0.010638</td>\n",
       "      <td>0.000000</td>\n",
       "    </tr>\n",
       "    <tr>\n",
       "      <th>50</th>\n",
       "      <td>0.009756</td>\n",
       "      <td>0.019512</td>\n",
       "      <td>0.000000</td>\n",
       "    </tr>\n",
       "  </tbody>\n",
       "</table>\n",
       "<p>87 rows × 3 columns</p>\n",
       "</div>"
      ],
      "text/plain": [
       "            IsBot_1   IsBot_2     ISbot\n",
       "cluster_K                              \n",
       "88         0.071429  0.142857  0.035714\n",
       "36         0.047619  0.063492  0.031746\n",
       "51         0.076923  0.097902  0.027972\n",
       "99         0.030120  0.078313  0.024096\n",
       "85         0.059524  0.071429  0.023810\n",
       "...             ...       ...       ...\n",
       "63         0.005102  0.010204  0.000000\n",
       "28         0.006639  0.012294  0.000000\n",
       "65         0.013699  0.013699  0.000000\n",
       "66         0.010638  0.010638  0.000000\n",
       "50         0.009756  0.019512  0.000000\n",
       "\n",
       "[87 rows x 3 columns]"
      ]
     },
     "execution_count": 149,
     "metadata": {},
     "output_type": "execute_result"
    }
   ],
   "source": [
    "bot_index = Cluster_Res.query('IsBot_2 + IsBot_1> 0.01').index\n",
    "Cluster_Res.query('IsBot_2 + IsBot_1> 0.01')"
   ]
  },
  {
   "cell_type": "code",
   "execution_count": 150,
   "metadata": {},
   "outputs": [],
   "source": [
    "to_drop = list(test_cluster.query(f'cluster_K in {list(bot_index)}').index) #Drop all rows in the bot_clusters defined above "
   ]
  },
  {
   "cell_type": "code",
   "execution_count": 151,
   "metadata": {},
   "outputs": [],
   "source": [
    "to_drop += list(test_cluster.query('IsBot_2 + IsBot_1> 0').index)"
   ]
  },
  {
   "cell_type": "code",
   "execution_count": 152,
   "metadata": {},
   "outputs": [],
   "source": [
    "df_real_clean = df_clean.drop(set(to_drop))"
   ]
  },
  {
   "cell_type": "code",
   "execution_count": 153,
   "metadata": {},
   "outputs": [
    {
     "data": {
      "text/plain": [
       "370666"
      ]
     },
     "execution_count": 153,
     "metadata": {},
     "output_type": "execute_result"
    }
   ],
   "source": [
    "len(set(to_drop))"
   ]
  },
  {
   "cell_type": "code",
   "execution_count": 154,
   "metadata": {},
   "outputs": [
    {
     "data": {
      "text/plain": [
       "(1914260, 17)"
      ]
     },
     "execution_count": 154,
     "metadata": {},
     "output_type": "execute_result"
    }
   ],
   "source": [
    "df_real_clean.shape"
   ]
  },
  {
   "cell_type": "code",
   "execution_count": 155,
   "metadata": {},
   "outputs": [
    {
     "data": {
      "text/plain": [
       "(2284926, 13)"
      ]
     },
     "execution_count": 155,
     "metadata": {},
     "output_type": "execute_result"
    }
   ],
   "source": [
    "df_raw.shape"
   ]
  },
  {
   "cell_type": "markdown",
   "metadata": {},
   "source": [
    "# Sentiment Analysis"
   ]
  },
  {
   "cell_type": "code",
   "execution_count": 160,
   "metadata": {},
   "outputs": [],
   "source": [
    "#Create a new dataframe responsible for sentiment analysis\n",
    "df_sentiment = df_real_clean.copy()"
   ]
  },
  {
   "cell_type": "code",
   "execution_count": 163,
   "metadata": {},
   "outputs": [],
   "source": [
    "# creating sentiment analyzer pipe\n",
    "# import nltk\n",
    "# nltk.download('vader_lexicon')\n",
    "\n",
    "sia = SentimentIntensityAnalyzer()\n",
    "\n",
    "# VADER method -- same as papers\n",
    "# getting compound score (also has positive, negative, neutral scores -- compound is combination/total/overall)\n",
    "\n",
    "def sentiment_analysis(x):\n",
    "    try:\n",
    "        return sia.polarity_scores(x)['compound']\n",
    "    except:\n",
    "        print(x)\n",
    "        return 0"
   ]
  },
  {
   "cell_type": "code",
   "execution_count": 164,
   "metadata": {},
   "outputs": [
    {
     "data": {
      "application/vnd.jupyter.widget-view+json": {
       "model_id": "a9c00c590da0406882b1162ec83f2f2a",
       "version_major": 2,
       "version_minor": 0
      },
      "text/plain": [
       "  0%|          | 0/1914260 [00:00<?, ?it/s]"
      ]
     },
     "metadata": {},
     "output_type": "display_data"
    }
   ],
   "source": [
    "df_sentiment['sentiment'] = df_sentiment['text'].progress_apply(sentiment_analysis)"
   ]
  },
  {
   "cell_type": "code",
   "execution_count": 166,
   "metadata": {},
   "outputs": [
    {
     "name": "stdout",
     "output_type": "stream",
     "text": [
      "nan\n",
      "nan\n"
     ]
    }
   ],
   "source": [
    "import datetime \n",
    "def DATE(date_str):\n",
    "    temp = date_str.split('-')\n",
    "    y = int(temp[0])\n",
    "    m = int(temp[1])\n",
    "    d = int(temp[2])\n",
    "    return datetime.datetime(y,m,d)\n",
    "def Get_date(STR):\n",
    "    try:\n",
    "        return str(DATE(STR.split(' ')[0]).date())\n",
    "    except:\n",
    "        print(STR)\n",
    "        return np.nan\n",
    "#Group by day and count \n",
    "df_sentiment['Day'] = df_sentiment.date.apply(Get_date)"
   ]
  },
  {
   "cell_type": "code",
   "execution_count": 167,
   "metadata": {},
   "outputs": [
    {
     "data": {
      "text/html": [
       "<div>\n",
       "<style scoped>\n",
       "    .dataframe tbody tr th:only-of-type {\n",
       "        vertical-align: middle;\n",
       "    }\n",
       "\n",
       "    .dataframe tbody tr th {\n",
       "        vertical-align: top;\n",
       "    }\n",
       "\n",
       "    .dataframe thead th {\n",
       "        text-align: right;\n",
       "    }\n",
       "</style>\n",
       "<table border=\"1\" class=\"dataframe\">\n",
       "  <thead>\n",
       "    <tr style=\"text-align: right;\">\n",
       "      <th></th>\n",
       "      <th>user_verified_clean</th>\n",
       "      <th>user_name</th>\n",
       "      <th>user_location</th>\n",
       "      <th>user_description</th>\n",
       "      <th>user_created</th>\n",
       "      <th>user_followers</th>\n",
       "      <th>user_friends</th>\n",
       "      <th>user_favourites</th>\n",
       "      <th>user_verified</th>\n",
       "      <th>date</th>\n",
       "      <th>text</th>\n",
       "      <th>hashtags</th>\n",
       "      <th>source</th>\n",
       "      <th>is_retweet</th>\n",
       "      <th>og_index</th>\n",
       "      <th>IsBot_1</th>\n",
       "      <th>IsBot_2</th>\n",
       "      <th>sentiment</th>\n",
       "      <th>Day</th>\n",
       "    </tr>\n",
       "  </thead>\n",
       "  <tbody>\n",
       "    <tr>\n",
       "      <th>9</th>\n",
       "      <td>0</td>\n",
       "      <td>DeSota Wilson</td>\n",
       "      <td>Atlanta, GA</td>\n",
       "      <td>Biz Consultant, real estate, fintech, startups, posts are not the view of my employer, RTs are not endorsements, military brat, @UNC alumnus, ΚΑΨ♦️ΦΝΠ, -DW = Me</td>\n",
       "      <td>2009-04-26 20:05:09</td>\n",
       "      <td>8534.0</td>\n",
       "      <td>7605</td>\n",
       "      <td>4838</td>\n",
       "      <td>False</td>\n",
       "      <td>2021-02-10 23:52:08</td>\n",
       "      <td>tesla s  bitcoin investment is revolutionary for  crypto but other firms may not do the same just yet    jpmorgan</td>\n",
       "      <td>['bitcoin', 'crypto']</td>\n",
       "      <td>Twitter Web App</td>\n",
       "      <td>False</td>\n",
       "      <td>9</td>\n",
       "      <td>0</td>\n",
       "      <td>0</td>\n",
       "      <td>0.0000</td>\n",
       "      <td>2021-02-10</td>\n",
       "    </tr>\n",
       "    <tr>\n",
       "      <th>17</th>\n",
       "      <td>0</td>\n",
       "      <td>Crypto is the future</td>\n",
       "      <td>NaN</td>\n",
       "      <td>I will post a lot of buying signals for BTC trading, so I hope that you block me. Drop all everything, Buy Bitcoin for the future I was together with you!</td>\n",
       "      <td>2019-09-28 16:48:12</td>\n",
       "      <td>625.0</td>\n",
       "      <td>129</td>\n",
       "      <td>14</td>\n",
       "      <td>False</td>\n",
       "      <td>2021-02-10 23:47:32</td>\n",
       "      <td>btc a big chance in a million  price   4898631 0  2021 02 11 08 45   bitcoin  fx  btc  crypto</td>\n",
       "      <td>['Bitcoin', 'FX', 'BTC', 'crypto']</td>\n",
       "      <td>dlvr.it</td>\n",
       "      <td>False</td>\n",
       "      <td>17</td>\n",
       "      <td>1</td>\n",
       "      <td>0</td>\n",
       "      <td>0.2500</td>\n",
       "      <td>2021-02-10</td>\n",
       "    </tr>\n",
       "    <tr>\n",
       "      <th>18</th>\n",
       "      <td>0</td>\n",
       "      <td>DeSota Wilson</td>\n",
       "      <td>Atlanta, GA</td>\n",
       "      <td>Biz Consultant, real estate, fintech, startups, posts are not the view of my employer, RTs are not endorsements, military brat, @UNC alumnus, ΚΑΨ♦️ΦΝΠ, -DW = Me</td>\n",
       "      <td>2009-04-26 20:05:09</td>\n",
       "      <td>8534.0</td>\n",
       "      <td>7605</td>\n",
       "      <td>4838</td>\n",
       "      <td>False</td>\n",
       "      <td>2021-02-10 23:47:13</td>\n",
       "      <td>bitcoin institutional demand accelerates in 2021 says  grayscale ceo   btc  btc  crypto  cryptocurrency  gbtc</td>\n",
       "      <td>['Bitcoin', 'BTC', 'crypto', 'cryptocurrency']</td>\n",
       "      <td>Twitter Web App</td>\n",
       "      <td>False</td>\n",
       "      <td>18</td>\n",
       "      <td>0</td>\n",
       "      <td>0</td>\n",
       "      <td>-0.1280</td>\n",
       "      <td>2021-02-10</td>\n",
       "    </tr>\n",
       "    <tr>\n",
       "      <th>26</th>\n",
       "      <td>0</td>\n",
       "      <td>DeSota Wilson</td>\n",
       "      <td>Atlanta, GA</td>\n",
       "      <td>Biz Consultant, real estate, fintech, startups, posts are not the view of my employer, RTs are not endorsements, military brat, @UNC alumnus, ΚΑΨ♦️ΦΝΠ, -DW = Me</td>\n",
       "      <td>2009-04-26 20:05:09</td>\n",
       "      <td>8534.0</td>\n",
       "      <td>7605</td>\n",
       "      <td>4838</td>\n",
       "      <td>False</td>\n",
       "      <td>2021-02-10 23:44:02</td>\n",
       "      <td>after  tesla   twitter considers adding  bitcoin to its balance sheet  says company s cfo</td>\n",
       "      <td>['bitcoin']</td>\n",
       "      <td>Twitter Web App</td>\n",
       "      <td>False</td>\n",
       "      <td>26</td>\n",
       "      <td>0</td>\n",
       "      <td>0</td>\n",
       "      <td>0.0000</td>\n",
       "      <td>2021-02-10</td>\n",
       "    </tr>\n",
       "    <tr>\n",
       "      <th>31</th>\n",
       "      <td>0</td>\n",
       "      <td>DeSota Wilson</td>\n",
       "      <td>Atlanta, GA</td>\n",
       "      <td>Biz Consultant, real estate, fintech, startups, posts are not the view of my employer, RTs are not endorsements, military brat, @UNC alumnus, ΚΑΨ♦️ΦΝΠ, -DW = Me</td>\n",
       "      <td>2009-04-26 20:05:09</td>\n",
       "      <td>8534.0</td>\n",
       "      <td>7605</td>\n",
       "      <td>4838</td>\n",
       "      <td>False</td>\n",
       "      <td>2021-02-10 23:40:36</td>\n",
       "      <td>the  grayscale  bitcoin trust  what it is and how it works   gbtc  digital  asset  fund  btc</td>\n",
       "      <td>['Bitcoin', 'digital', 'asset', 'fund', 'BTC']</td>\n",
       "      <td>Twitter Web App</td>\n",
       "      <td>False</td>\n",
       "      <td>31</td>\n",
       "      <td>0</td>\n",
       "      <td>0</td>\n",
       "      <td>0.7003</td>\n",
       "      <td>2021-02-10</td>\n",
       "    </tr>\n",
       "  </tbody>\n",
       "</table>\n",
       "</div>"
      ],
      "text/plain": [
       "    user_verified_clean             user_name user_location  \\\n",
       "9                     0         DeSota Wilson   Atlanta, GA   \n",
       "17                    0  Crypto is the future           NaN   \n",
       "18                    0         DeSota Wilson   Atlanta, GA   \n",
       "26                    0         DeSota Wilson   Atlanta, GA   \n",
       "31                    0         DeSota Wilson   Atlanta, GA   \n",
       "\n",
       "                                                                                                                                                    user_description  \\\n",
       "9   Biz Consultant, real estate, fintech, startups, posts are not the view of my employer, RTs are not endorsements, military brat, @UNC alumnus, ΚΑΨ♦️ΦΝΠ, -DW = Me   \n",
       "17        I will post a lot of buying signals for BTC trading, so I hope that you block me. Drop all everything, Buy Bitcoin for the future I was together with you!   \n",
       "18  Biz Consultant, real estate, fintech, startups, posts are not the view of my employer, RTs are not endorsements, military brat, @UNC alumnus, ΚΑΨ♦️ΦΝΠ, -DW = Me   \n",
       "26  Biz Consultant, real estate, fintech, startups, posts are not the view of my employer, RTs are not endorsements, military brat, @UNC alumnus, ΚΑΨ♦️ΦΝΠ, -DW = Me   \n",
       "31  Biz Consultant, real estate, fintech, startups, posts are not the view of my employer, RTs are not endorsements, military brat, @UNC alumnus, ΚΑΨ♦️ΦΝΠ, -DW = Me   \n",
       "\n",
       "           user_created  user_followers user_friends user_favourites  \\\n",
       "9   2009-04-26 20:05:09          8534.0         7605            4838   \n",
       "17  2019-09-28 16:48:12           625.0          129              14   \n",
       "18  2009-04-26 20:05:09          8534.0         7605            4838   \n",
       "26  2009-04-26 20:05:09          8534.0         7605            4838   \n",
       "31  2009-04-26 20:05:09          8534.0         7605            4838   \n",
       "\n",
       "   user_verified                 date  \\\n",
       "9          False  2021-02-10 23:52:08   \n",
       "17         False  2021-02-10 23:47:32   \n",
       "18         False  2021-02-10 23:47:13   \n",
       "26         False  2021-02-10 23:44:02   \n",
       "31         False  2021-02-10 23:40:36   \n",
       "\n",
       "                                                                                                                 text  \\\n",
       "9   tesla s  bitcoin investment is revolutionary for  crypto but other firms may not do the same just yet    jpmorgan   \n",
       "17                      btc a big chance in a million  price   4898631 0  2021 02 11 08 45   bitcoin  fx  btc  crypto   \n",
       "18      bitcoin institutional demand accelerates in 2021 says  grayscale ceo   btc  btc  crypto  cryptocurrency  gbtc   \n",
       "26                          after  tesla   twitter considers adding  bitcoin to its balance sheet  says company s cfo   \n",
       "31                       the  grayscale  bitcoin trust  what it is and how it works   gbtc  digital  asset  fund  btc   \n",
       "\n",
       "                                          hashtags           source  \\\n",
       "9                            ['bitcoin', 'crypto']  Twitter Web App   \n",
       "17              ['Bitcoin', 'FX', 'BTC', 'crypto']          dlvr.it   \n",
       "18  ['Bitcoin', 'BTC', 'crypto', 'cryptocurrency']  Twitter Web App   \n",
       "26                                     ['bitcoin']  Twitter Web App   \n",
       "31  ['Bitcoin', 'digital', 'asset', 'fund', 'BTC']  Twitter Web App   \n",
       "\n",
       "   is_retweet  og_index  IsBot_1  IsBot_2  sentiment         Day  \n",
       "9       False         9        0        0     0.0000  2021-02-10  \n",
       "17      False        17        1        0     0.2500  2021-02-10  \n",
       "18      False        18        0        0    -0.1280  2021-02-10  \n",
       "26      False        26        0        0     0.0000  2021-02-10  \n",
       "31      False        31        0        0     0.7003  2021-02-10  "
      ]
     },
     "execution_count": 167,
     "metadata": {},
     "output_type": "execute_result"
    }
   ],
   "source": [
    "df_sentiment.head()"
   ]
  },
  {
   "cell_type": "code",
   "execution_count": 177,
   "metadata": {},
   "outputs": [
    {
     "data": {
      "text/plain": [
       "<AxesSubplot:>"
      ]
     },
     "execution_count": 177,
     "metadata": {},
     "output_type": "execute_result"
    },
    {
     "data": {
      "image/png": "[encoded data removed]",
      "text/plain": [
       "<Figure size 432x288 with 1 Axes>"
      ]
     },
     "metadata": {
      "needs_background": "light"
     },
     "output_type": "display_data"
    }
   ],
   "source": [
    "df_sentiment.sentiment.hist()"
   ]
  },
  {
   "cell_type": "code",
   "execution_count": 168,
   "metadata": {},
   "outputs": [
    {
     "data": {
      "text/plain": [
       "<AxesSubplot:>"
      ]
     },
     "execution_count": 168,
     "metadata": {},
     "output_type": "execute_result"
    },
    {
     "data": {
      "image/png": "[encoded data removed]",
      "text/plain": [
       "<Figure size 432x288 with 1 Axes>"
      ]
     },
     "metadata": {
      "needs_background": "light"
     },
     "output_type": "display_data"
    }
   ],
   "source": [
    "df_sentiment.sentiment.hist()"
   ]
  },
  {
   "cell_type": "code",
   "execution_count": 169,
   "metadata": {},
   "outputs": [
    {
     "data": {
      "text/plain": [
       "<AxesSubplot:xlabel='Day'>"
      ]
     },
     "execution_count": 169,
     "metadata": {},
     "output_type": "execute_result"
    },
    {
     "data": {
      "image/png": "[encoded data removed]",
      "text/plain": [
       "<Figure size 432x288 with 1 Axes>"
      ]
     },
     "metadata": {
      "needs_background": "light"
     },
     "output_type": "display_data"
    }
   ],
   "source": [
    "df_sentiment.groupby('Day').sentiment.mean().plot()"
   ]
  },
  {
   "cell_type": "code",
   "execution_count": 170,
   "metadata": {},
   "outputs": [],
   "source": [
    "df_sentiment.drop('text',axis = 1).to_csv('df_sentiment.csv')"
   ]
  }
 ],
 "metadata": {
  "interpreter": {
   "hash": "c71ac23d9ac8b94aca2a429ca6599662a91c34eca67acefedb1f948907b22186"
  },
  "kernelspec": {
   "display_name": "Python 3.8.8 ('base')",
   "language": "python",
   "name": "python3"
  },
  "language_info": {
   "codemirror_mode": {
    "name": "ipython",
    "version": 3
   },
   "file_extension": ".py",
   "mimetype": "text/x-python",
   "name": "python",
   "nbconvert_exporter": "python",
   "pygments_lexer": "ipython3",
   "version": "3.8.8"
  },
  "orig_nbformat": 4
 },
 "nbformat": 4,
 "nbformat_minor": 2
}

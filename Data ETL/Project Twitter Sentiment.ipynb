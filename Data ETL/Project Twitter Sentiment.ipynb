{
 "cells": [
  {
   "cell_type": "code",
   "execution_count": 23,
   "id": "80e5a48d-01f9-4e31-983c-352f7164d1a0",
   "metadata": {},
   "outputs": [],
   "source": [
    "import pandas as pd\n",
    "import nltk\n",
    "from tqdm.notebook import tqdm\n",
    "tqdm.pandas()"
   ]
  },
  {
   "cell_type": "code",
   "execution_count": null,
   "id": "855cafe7-ddd1-4a97-b98a-5c9bed5be38a",
   "metadata": {},
   "outputs": [],
   "source": [
    "nltk.download('words')\n",
    "words = set(nltk.corpus.words.words())"
   ]
  },
  {
   "cell_type": "code",
   "execution_count": 2,
   "id": "c56caec6-af11-4a3c-93fd-68589e6ad9f7",
   "metadata": {},
   "outputs": [
    {
     "name": "stderr",
     "output_type": "stream",
     "text": [
      "/Users/admin/opt/anaconda3/lib/python3.8/site-packages/IPython/core/interactiveshell.py:3165: DtypeWarning: Columns (5,6,7,12) have mixed types.Specify dtype option on import or set low_memory=False.\n",
      "  has_raised = await self.run_ast_nodes(code_ast.body, cell_name,\n"
     ]
    }
   ],
   "source": [
    "df = pd.read_csv('Bitcoin_tweets.csv')"
   ]
  },
  {
   "cell_type": "code",
   "execution_count": 4,
   "id": "5b5295af-1cf4-43ed-beeb-ce6f1e6e4b12",
   "metadata": {},
   "outputs": [
    {
     "data": {
      "text/plain": [
       "Index(['user_name', 'user_location', 'user_description', 'user_created',\n",
       "       'user_followers', 'user_friends', 'user_favourites', 'user_verified',\n",
       "       'date', 'text', 'hashtags', 'source', 'is_retweet'],\n",
       "      dtype='object')"
      ]
     },
     "execution_count": 4,
     "metadata": {},
     "output_type": "execute_result"
    }
   ],
   "source": [
    "df.columns"
   ]
  },
  {
   "cell_type": "code",
   "execution_count": 5,
   "id": "91693f6d-ac26-4e3e-848f-eea2ba315291",
   "metadata": {},
   "outputs": [
    {
     "data": {
      "text/html": [
       "<div>\n",
       "<style scoped>\n",
       "    .dataframe tbody tr th:only-of-type {\n",
       "        vertical-align: middle;\n",
       "    }\n",
       "\n",
       "    .dataframe tbody tr th {\n",
       "        vertical-align: top;\n",
       "    }\n",
       "\n",
       "    .dataframe thead th {\n",
       "        text-align: right;\n",
       "    }\n",
       "</style>\n",
       "<table border=\"1\" class=\"dataframe\">\n",
       "  <thead>\n",
       "    <tr style=\"text-align: right;\">\n",
       "      <th></th>\n",
       "      <th>user_name</th>\n",
       "      <th>user_location</th>\n",
       "      <th>user_description</th>\n",
       "      <th>user_created</th>\n",
       "      <th>user_followers</th>\n",
       "      <th>user_friends</th>\n",
       "      <th>user_favourites</th>\n",
       "      <th>user_verified</th>\n",
       "      <th>date</th>\n",
       "      <th>text</th>\n",
       "      <th>hashtags</th>\n",
       "      <th>source</th>\n",
       "      <th>is_retweet</th>\n",
       "    </tr>\n",
       "  </thead>\n",
       "  <tbody>\n",
       "    <tr>\n",
       "      <th>0</th>\n",
       "      <td>DeSota Wilson</td>\n",
       "      <td>Atlanta, GA</td>\n",
       "      <td>Biz Consultant, real estate, fintech, startups...</td>\n",
       "      <td>2009-04-26 20:05:09</td>\n",
       "      <td>8534.0</td>\n",
       "      <td>7605</td>\n",
       "      <td>4838</td>\n",
       "      <td>False</td>\n",
       "      <td>2021-02-10 23:59:04</td>\n",
       "      <td>Blue Ridge Bank shares halted by NYSE after #b...</td>\n",
       "      <td>['bitcoin']</td>\n",
       "      <td>Twitter Web App</td>\n",
       "      <td>False</td>\n",
       "    </tr>\n",
       "    <tr>\n",
       "      <th>1</th>\n",
       "      <td>CryptoND</td>\n",
       "      <td>NaN</td>\n",
       "      <td>😎 BITCOINLIVE is a Dutch platform aimed at inf...</td>\n",
       "      <td>2019-10-17 20:12:10</td>\n",
       "      <td>6769.0</td>\n",
       "      <td>1532</td>\n",
       "      <td>25483</td>\n",
       "      <td>False</td>\n",
       "      <td>2021-02-10 23:58:48</td>\n",
       "      <td>😎 Today, that's this #Thursday, we will do a \"...</td>\n",
       "      <td>['Thursday', 'Btc', 'wallet', 'security']</td>\n",
       "      <td>Twitter for Android</td>\n",
       "      <td>False</td>\n",
       "    </tr>\n",
       "  </tbody>\n",
       "</table>\n",
       "</div>"
      ],
      "text/plain": [
       "       user_name user_location  \\\n",
       "0  DeSota Wilson   Atlanta, GA   \n",
       "1       CryptoND           NaN   \n",
       "\n",
       "                                    user_description         user_created  \\\n",
       "0  Biz Consultant, real estate, fintech, startups...  2009-04-26 20:05:09   \n",
       "1  😎 BITCOINLIVE is a Dutch platform aimed at inf...  2019-10-17 20:12:10   \n",
       "\n",
       "   user_followers user_friends user_favourites user_verified  \\\n",
       "0          8534.0         7605            4838         False   \n",
       "1          6769.0         1532           25483         False   \n",
       "\n",
       "                  date                                               text  \\\n",
       "0  2021-02-10 23:59:04  Blue Ridge Bank shares halted by NYSE after #b...   \n",
       "1  2021-02-10 23:58:48  😎 Today, that's this #Thursday, we will do a \"...   \n",
       "\n",
       "                                    hashtags               source is_retweet  \n",
       "0                                ['bitcoin']      Twitter Web App      False  \n",
       "1  ['Thursday', 'Btc', 'wallet', 'security']  Twitter for Android      False  "
      ]
     },
     "execution_count": 5,
     "metadata": {},
     "output_type": "execute_result"
    }
   ],
   "source": [
    "df.head(2)"
   ]
  },
  {
   "cell_type": "code",
   "execution_count": 8,
   "id": "2492eb8c-a844-474e-a257-472d58ecca3c",
   "metadata": {},
   "outputs": [],
   "source": [
    "df = df.drop(['user_name', 'user_location', 'user_description', 'user_created', 'user_friends', 'user_favourites', 'is_retweet'], axis = 1)"
   ]
  },
  {
   "cell_type": "code",
   "execution_count": 9,
   "id": "23ec33e7-0111-4a4b-8a0a-423cda156f53",
   "metadata": {},
   "outputs": [
    {
     "data": {
      "text/html": [
       "<div>\n",
       "<style scoped>\n",
       "    .dataframe tbody tr th:only-of-type {\n",
       "        vertical-align: middle;\n",
       "    }\n",
       "\n",
       "    .dataframe tbody tr th {\n",
       "        vertical-align: top;\n",
       "    }\n",
       "\n",
       "    .dataframe thead th {\n",
       "        text-align: right;\n",
       "    }\n",
       "</style>\n",
       "<table border=\"1\" class=\"dataframe\">\n",
       "  <thead>\n",
       "    <tr style=\"text-align: right;\">\n",
       "      <th></th>\n",
       "      <th>user_followers</th>\n",
       "      <th>user_verified</th>\n",
       "      <th>date</th>\n",
       "      <th>text</th>\n",
       "      <th>hashtags</th>\n",
       "      <th>source</th>\n",
       "    </tr>\n",
       "  </thead>\n",
       "  <tbody>\n",
       "    <tr>\n",
       "      <th>0</th>\n",
       "      <td>8534.0</td>\n",
       "      <td>False</td>\n",
       "      <td>2021-02-10 23:59:04</td>\n",
       "      <td>Blue Ridge Bank shares halted by NYSE after #b...</td>\n",
       "      <td>['bitcoin']</td>\n",
       "      <td>Twitter Web App</td>\n",
       "    </tr>\n",
       "    <tr>\n",
       "      <th>1</th>\n",
       "      <td>6769.0</td>\n",
       "      <td>False</td>\n",
       "      <td>2021-02-10 23:58:48</td>\n",
       "      <td>😎 Today, that's this #Thursday, we will do a \"...</td>\n",
       "      <td>['Thursday', 'Btc', 'wallet', 'security']</td>\n",
       "      <td>Twitter for Android</td>\n",
       "    </tr>\n",
       "    <tr>\n",
       "      <th>2</th>\n",
       "      <td>128.0</td>\n",
       "      <td>False</td>\n",
       "      <td>2021-02-10 23:54:48</td>\n",
       "      <td>Guys evening, I have read this article about B...</td>\n",
       "      <td>NaN</td>\n",
       "      <td>Twitter Web App</td>\n",
       "    </tr>\n",
       "    <tr>\n",
       "      <th>3</th>\n",
       "      <td>625.0</td>\n",
       "      <td>False</td>\n",
       "      <td>2021-02-10 23:54:33</td>\n",
       "      <td>$BTC A big chance in a billion! Price: \\487264...</td>\n",
       "      <td>['Bitcoin', 'FX', 'BTC', 'crypto']</td>\n",
       "      <td>dlvr.it</td>\n",
       "    </tr>\n",
       "    <tr>\n",
       "      <th>4</th>\n",
       "      <td>1249.0</td>\n",
       "      <td>False</td>\n",
       "      <td>2021-02-10 23:54:06</td>\n",
       "      <td>This network is secured by 9 508 nodes as of t...</td>\n",
       "      <td>['BTC']</td>\n",
       "      <td>Twitter Web App</td>\n",
       "    </tr>\n",
       "    <tr>\n",
       "      <th>...</th>\n",
       "      <td>...</td>\n",
       "      <td>...</td>\n",
       "      <td>...</td>\n",
       "      <td>...</td>\n",
       "      <td>...</td>\n",
       "      <td>...</td>\n",
       "    </tr>\n",
       "    <tr>\n",
       "      <th>2284921</th>\n",
       "      <td>1139.0</td>\n",
       "      <td>False</td>\n",
       "      <td>2022-02-09 20:55:00</td>\n",
       "      <td>#HIRING?\\nSign up now https://t.co/o7lVlsCHXv\\...</td>\n",
       "      <td>['HIRING', 'Jobs', 'jobsearching', 'DataAnalyt...</td>\n",
       "      <td>Twitter Web App</td>\n",
       "    </tr>\n",
       "    <tr>\n",
       "      <th>2284922</th>\n",
       "      <td>1686.0</td>\n",
       "      <td>False</td>\n",
       "      <td>2022-02-09 20:54:50</td>\n",
       "      <td>Stopped out gg\\n\\nFirst 1R loss this month \\n\\...</td>\n",
       "      <td>['BTC']</td>\n",
       "      <td>Twitter Web App</td>\n",
       "    </tr>\n",
       "    <tr>\n",
       "      <th>2284923</th>\n",
       "      <td>39.0</td>\n",
       "      <td>False</td>\n",
       "      <td>2022-02-09 20:54:50</td>\n",
       "      <td>@TylerSCrypto Hey broow, how is your trading g...</td>\n",
       "      <td>['BTC']</td>\n",
       "      <td>Twitter for Android</td>\n",
       "    </tr>\n",
       "    <tr>\n",
       "      <th>2284924</th>\n",
       "      <td>19.0</td>\n",
       "      <td>False</td>\n",
       "      <td>2022-02-09 20:54:36</td>\n",
       "      <td>@list_energy @list_energy 's team is working h...</td>\n",
       "      <td>['EnergyList', 'EList', 'Airdrop', 'cryptocurr...</td>\n",
       "      <td>Twitter for Android</td>\n",
       "    </tr>\n",
       "    <tr>\n",
       "      <th>2284925</th>\n",
       "      <td>67.0</td>\n",
       "      <td>False</td>\n",
       "      <td>2022-02-09 20:54:35</td>\n",
       "      <td>Many apps you download to the phone are scam t...</td>\n",
       "      <td>['BTC', 'ETH', 'NFT', 'NFTs', 'BNB', 'TikTok',...</td>\n",
       "      <td>Twitter Web App</td>\n",
       "    </tr>\n",
       "  </tbody>\n",
       "</table>\n",
       "<p>2284926 rows × 6 columns</p>\n",
       "</div>"
      ],
      "text/plain": [
       "         user_followers user_verified                 date  \\\n",
       "0                8534.0         False  2021-02-10 23:59:04   \n",
       "1                6769.0         False  2021-02-10 23:58:48   \n",
       "2                 128.0         False  2021-02-10 23:54:48   \n",
       "3                 625.0         False  2021-02-10 23:54:33   \n",
       "4                1249.0         False  2021-02-10 23:54:06   \n",
       "...                 ...           ...                  ...   \n",
       "2284921          1139.0         False  2022-02-09 20:55:00   \n",
       "2284922          1686.0         False  2022-02-09 20:54:50   \n",
       "2284923            39.0         False  2022-02-09 20:54:50   \n",
       "2284924            19.0         False  2022-02-09 20:54:36   \n",
       "2284925            67.0         False  2022-02-09 20:54:35   \n",
       "\n",
       "                                                      text  \\\n",
       "0        Blue Ridge Bank shares halted by NYSE after #b...   \n",
       "1        😎 Today, that's this #Thursday, we will do a \"...   \n",
       "2        Guys evening, I have read this article about B...   \n",
       "3        $BTC A big chance in a billion! Price: \\487264...   \n",
       "4        This network is secured by 9 508 nodes as of t...   \n",
       "...                                                    ...   \n",
       "2284921  #HIRING?\\nSign up now https://t.co/o7lVlsCHXv\\...   \n",
       "2284922  Stopped out gg\\n\\nFirst 1R loss this month \\n\\...   \n",
       "2284923  @TylerSCrypto Hey broow, how is your trading g...   \n",
       "2284924  @list_energy @list_energy 's team is working h...   \n",
       "2284925  Many apps you download to the phone are scam t...   \n",
       "\n",
       "                                                  hashtags  \\\n",
       "0                                              ['bitcoin']   \n",
       "1                ['Thursday', 'Btc', 'wallet', 'security']   \n",
       "2                                                      NaN   \n",
       "3                       ['Bitcoin', 'FX', 'BTC', 'crypto']   \n",
       "4                                                  ['BTC']   \n",
       "...                                                    ...   \n",
       "2284921  ['HIRING', 'Jobs', 'jobsearching', 'DataAnalyt...   \n",
       "2284922                                            ['BTC']   \n",
       "2284923                                            ['BTC']   \n",
       "2284924  ['EnergyList', 'EList', 'Airdrop', 'cryptocurr...   \n",
       "2284925  ['BTC', 'ETH', 'NFT', 'NFTs', 'BNB', 'TikTok',...   \n",
       "\n",
       "                      source  \n",
       "0            Twitter Web App  \n",
       "1        Twitter for Android  \n",
       "2            Twitter Web App  \n",
       "3                    dlvr.it  \n",
       "4            Twitter Web App  \n",
       "...                      ...  \n",
       "2284921      Twitter Web App  \n",
       "2284922      Twitter Web App  \n",
       "2284923  Twitter for Android  \n",
       "2284924  Twitter for Android  \n",
       "2284925      Twitter Web App  \n",
       "\n",
       "[2284926 rows x 6 columns]"
      ]
     },
     "execution_count": 9,
     "metadata": {},
     "output_type": "execute_result"
    }
   ],
   "source": [
    "df"
   ]
  },
  {
   "cell_type": "code",
   "execution_count": 14,
   "id": "eba2e55f-e413-46c3-a364-880f89f1e8b1",
   "metadata": {},
   "outputs": [],
   "source": [
    "from textblob import TextBlob"
   ]
  },
  {
   "cell_type": "code",
   "execution_count": 24,
   "id": "8e2388c7-1863-4536-b7fc-d99f3d98543c",
   "metadata": {},
   "outputs": [],
   "source": [
    "df = df.dropna(subset=['text'])"
   ]
  },
  {
   "cell_type": "code",
   "execution_count": 25,
   "id": "55415d42-0392-4e68-ab94-43763ce7199e",
   "metadata": {},
   "outputs": [
    {
     "data": {
      "application/vnd.jupyter.widget-view+json": {
       "model_id": "e9352ba62cd34d3ea0c227730463d059",
       "version_major": 2,
       "version_minor": 0
      },
      "text/plain": [
       "  0%|          | 0/2284924 [00:00<?, ?it/s]"
      ]
     },
     "metadata": {},
     "output_type": "display_data"
    },
    {
     "name": "stderr",
     "output_type": "stream",
     "text": [
      "<ipython-input-25-37b0dd2d4790>:1: SettingWithCopyWarning: \n",
      "A value is trying to be set on a copy of a slice from a DataFrame.\n",
      "Try using .loc[row_indexer,col_indexer] = value instead\n",
      "\n",
      "See the caveats in the documentation: https://pandas.pydata.org/pandas-docs/stable/user_guide/indexing.html#returning-a-view-versus-a-copy\n",
      "  df[\"sentiment\"] = df[\"text\"].progress_apply(lambda x : TextBlob(x).sentiment)\n"
     ]
    }
   ],
   "source": [
    "df[\"sentiment\"] = df[\"text\"].progress_apply(lambda x : TextBlob(x).sentiment)"
   ]
  },
  {
   "cell_type": "code",
   "execution_count": 26,
   "id": "142baabe-e5d6-4249-a075-01604cb96ba2",
   "metadata": {},
   "outputs": [
    {
     "data": {
      "text/plain": [
       "0                                         (0.0, 0.1)\n",
       "1                                         (0.0, 0.0)\n",
       "2                                         (0.0, 0.0)\n",
       "3                                         (0.0, 0.1)\n",
       "4                                         (0.0, 0.1)\n",
       "                             ...                    \n",
       "2284921                                   (0.4, 0.8)\n",
       "2284922                    (0.1, 0.3666666666666667)\n",
       "2284923                                   (0.0, 0.0)\n",
       "2284924    (0.12166666666666667, 0.3487179487179487)\n",
       "2284925                               (0.78125, 0.5)\n",
       "Name: sentiment, Length: 2284924, dtype: object"
      ]
     },
     "execution_count": 26,
     "metadata": {},
     "output_type": "execute_result"
    }
   ],
   "source": [
    "df[\"sentiment\"]"
   ]
  },
  {
   "cell_type": "code",
   "execution_count": 28,
   "id": "1f7660d2-36fc-496e-a86d-c098fcda74e0",
   "metadata": {},
   "outputs": [
    {
     "data": {
      "text/plain": [
       "'@TylerSCrypto Hey broow, how is your trading going, wanna double your kRipToCoInS? 😏 #BTC'"
      ]
     },
     "execution_count": 28,
     "metadata": {},
     "output_type": "execute_result"
    }
   ],
   "source": [
    "df.at[2284923, 'text']"
   ]
  },
  {
   "cell_type": "code",
   "execution_count": null,
   "id": "88dc001a-1ac8-4da2-8f3c-efb663ac7ccd",
   "metadata": {},
   "outputs": [],
   "source": []
  }
 ],
 "metadata": {
  "kernelspec": {
   "display_name": "Python 3",
   "language": "python",
   "name": "python3"
  },
  "language_info": {
   "codemirror_mode": {
    "name": "ipython",
    "version": 3
   },
   "file_extension": ".py",
   "mimetype": "text/x-python",
   "name": "python",
   "nbconvert_exporter": "python",
   "pygments_lexer": "ipython3",
   "version": "3.8.8"
  }
 },
 "nbformat": 4,
 "nbformat_minor": 5
}

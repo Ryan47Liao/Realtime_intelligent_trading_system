{
 "cells": [
  {
   "cell_type": "code",
   "execution_count": 110,
   "metadata": {},
   "outputs": [],
   "source": [
    "import pandas as pd\n",
    "import matplotlib.pyplot as plt\n",
    "\n",
    "from sklearn.linear_model import LinearRegression\n",
    "from sklearn.tree import DecisionTreeRegressor\n",
    "from sklearn.ensemble import RandomForestRegressor, GradientBoostingRegressor\n",
    "from sklearn.preprocessing import StandardScaler\n",
    "from sklearn.model_selection import train_test_split, cross_val_score\n",
    "from sklearn.metrics import r2_score, mean_squared_error, mean_absolute_percentage_error\n",
    "\n",
    "import time\n",
    "from datetime import datetime"
   ]
  },
  {
   "cell_type": "code",
   "execution_count": 111,
   "metadata": {},
   "outputs": [],
   "source": [
    "# Read in bitcoin prices csv\n",
    "bitcoin_prices = pd.read_csv('BitCoin_hist_data.csv')\n",
    "bitcoin_prices.date = pd.to_datetime(bitcoin_prices.date)\n",
    "bitcoin_prices = bitcoin_prices[bitcoin_prices.date.dt.year >= 2014]"
   ]
  },
  {
   "cell_type": "code",
   "execution_count": 112,
   "metadata": {},
   "outputs": [],
   "source": [
    "# Bitcoin google trends\n",
    "bitcoin_gtrends = pd.read_csv('google_trends_bitcoin_2014.csv')\n",
    "bitcoin_gtrends.date = pd.to_datetime(bitcoin_gtrends.date)"
   ]
  },
  {
   "cell_type": "code",
   "execution_count": 113,
   "metadata": {},
   "outputs": [],
   "source": [
    "# Bitcoin tweet volumes\n",
    "bitcoin_tweet_volumes = pd.read_csv('tweet_volumes_bitcoin_2014.csv')\n",
    "bitcoin_tweet_volumes = bitcoin_tweet_volumes[['date','num_tweets']]\n",
    "bitcoin_tweet_volumes.date = pd.to_datetime(bitcoin_tweet_volumes.date, format = '%Y-%m-%d')"
   ]
  },
  {
   "cell_type": "code",
   "execution_count": 114,
   "metadata": {},
   "outputs": [],
   "source": [
    "# Interpolate missing tweet volumes\n",
    "bitcoin_tweet_volumes.num_tweets = bitcoin_tweet_volumes.num_tweets.interpolate()"
   ]
  },
  {
   "cell_type": "code",
   "execution_count": 115,
   "metadata": {},
   "outputs": [
    {
     "data": {
      "text/html": [
       "<div>\n",
       "<style scoped>\n",
       "    .dataframe tbody tr th:only-of-type {\n",
       "        vertical-align: middle;\n",
       "    }\n",
       "\n",
       "    .dataframe tbody tr th {\n",
       "        vertical-align: top;\n",
       "    }\n",
       "\n",
       "    .dataframe thead th {\n",
       "        text-align: right;\n",
       "    }\n",
       "</style>\n",
       "<table border=\"1\" class=\"dataframe\">\n",
       "  <thead>\n",
       "    <tr style=\"text-align: right;\">\n",
       "      <th></th>\n",
       "      <th>date</th>\n",
       "      <th>bitcoin_unscaled</th>\n",
       "      <th>bitcoin_monthly</th>\n",
       "      <th>isPartial</th>\n",
       "      <th>scale</th>\n",
       "      <th>bitcoin</th>\n",
       "    </tr>\n",
       "  </thead>\n",
       "  <tbody>\n",
       "    <tr>\n",
       "      <th>0</th>\n",
       "      <td>2014-01-01</td>\n",
       "      <td>63</td>\n",
       "      <td>8.0</td>\n",
       "      <td>False</td>\n",
       "      <td>0.08</td>\n",
       "      <td>5.04</td>\n",
       "    </tr>\n",
       "    <tr>\n",
       "      <th>1</th>\n",
       "      <td>2014-01-02</td>\n",
       "      <td>68</td>\n",
       "      <td>8.0</td>\n",
       "      <td>NaN</td>\n",
       "      <td>0.08</td>\n",
       "      <td>5.44</td>\n",
       "    </tr>\n",
       "    <tr>\n",
       "      <th>2</th>\n",
       "      <td>2014-01-03</td>\n",
       "      <td>77</td>\n",
       "      <td>8.0</td>\n",
       "      <td>NaN</td>\n",
       "      <td>0.08</td>\n",
       "      <td>6.16</td>\n",
       "    </tr>\n",
       "    <tr>\n",
       "      <th>3</th>\n",
       "      <td>2014-01-04</td>\n",
       "      <td>63</td>\n",
       "      <td>8.0</td>\n",
       "      <td>NaN</td>\n",
       "      <td>0.08</td>\n",
       "      <td>5.04</td>\n",
       "    </tr>\n",
       "    <tr>\n",
       "      <th>4</th>\n",
       "      <td>2014-01-05</td>\n",
       "      <td>71</td>\n",
       "      <td>8.0</td>\n",
       "      <td>NaN</td>\n",
       "      <td>0.08</td>\n",
       "      <td>5.68</td>\n",
       "    </tr>\n",
       "    <tr>\n",
       "      <th>...</th>\n",
       "      <td>...</td>\n",
       "      <td>...</td>\n",
       "      <td>...</td>\n",
       "      <td>...</td>\n",
       "      <td>...</td>\n",
       "      <td>...</td>\n",
       "    </tr>\n",
       "    <tr>\n",
       "      <th>2917</th>\n",
       "      <td>2021-12-27</td>\n",
       "      <td>43</td>\n",
       "      <td>35.0</td>\n",
       "      <td>NaN</td>\n",
       "      <td>0.35</td>\n",
       "      <td>15.05</td>\n",
       "    </tr>\n",
       "    <tr>\n",
       "      <th>2918</th>\n",
       "      <td>2021-12-28</td>\n",
       "      <td>46</td>\n",
       "      <td>35.0</td>\n",
       "      <td>NaN</td>\n",
       "      <td>0.35</td>\n",
       "      <td>16.10</td>\n",
       "    </tr>\n",
       "    <tr>\n",
       "      <th>2919</th>\n",
       "      <td>2021-12-29</td>\n",
       "      <td>45</td>\n",
       "      <td>35.0</td>\n",
       "      <td>NaN</td>\n",
       "      <td>0.35</td>\n",
       "      <td>15.75</td>\n",
       "    </tr>\n",
       "    <tr>\n",
       "      <th>2920</th>\n",
       "      <td>2021-12-30</td>\n",
       "      <td>44</td>\n",
       "      <td>35.0</td>\n",
       "      <td>NaN</td>\n",
       "      <td>0.35</td>\n",
       "      <td>15.40</td>\n",
       "    </tr>\n",
       "    <tr>\n",
       "      <th>2921</th>\n",
       "      <td>2021-12-31</td>\n",
       "      <td>41</td>\n",
       "      <td>35.0</td>\n",
       "      <td>NaN</td>\n",
       "      <td>0.35</td>\n",
       "      <td>14.35</td>\n",
       "    </tr>\n",
       "  </tbody>\n",
       "</table>\n",
       "<p>2922 rows × 6 columns</p>\n",
       "</div>"
      ],
      "text/plain": [
       "           date  bitcoin_unscaled  bitcoin_monthly isPartial  scale  bitcoin\n",
       "0    2014-01-01                63              8.0     False   0.08     5.04\n",
       "1    2014-01-02                68              8.0       NaN   0.08     5.44\n",
       "2    2014-01-03                77              8.0       NaN   0.08     6.16\n",
       "3    2014-01-04                63              8.0       NaN   0.08     5.04\n",
       "4    2014-01-05                71              8.0       NaN   0.08     5.68\n",
       "...         ...               ...              ...       ...    ...      ...\n",
       "2917 2021-12-27                43             35.0       NaN   0.35    15.05\n",
       "2918 2021-12-28                46             35.0       NaN   0.35    16.10\n",
       "2919 2021-12-29                45             35.0       NaN   0.35    15.75\n",
       "2920 2021-12-30                44             35.0       NaN   0.35    15.40\n",
       "2921 2021-12-31                41             35.0       NaN   0.35    14.35\n",
       "\n",
       "[2922 rows x 6 columns]"
      ]
     },
     "execution_count": 115,
     "metadata": {},
     "output_type": "execute_result"
    }
   ],
   "source": [
    "bitcoin_gtrends"
   ]
  },
  {
   "cell_type": "markdown",
   "metadata": {},
   "source": [
    "# w/ google trends & tweet volumes"
   ]
  },
  {
   "cell_type": "code",
   "execution_count": 116,
   "metadata": {},
   "outputs": [],
   "source": [
    "# Modeling with just google trends and tweet volumes\n",
    "df_tmp = bitcoin_prices.merge(bitcoin_gtrends, on = 'date')[['date','close','bitcoin']]\n",
    "df = df_tmp.merge(bitcoin_tweet_volumes, on = 'date')\n",
    "df = df.set_index('date')"
   ]
  },
  {
   "cell_type": "code",
   "execution_count": 117,
   "metadata": {},
   "outputs": [
    {
     "data": {
      "text/html": [
       "<div>\n",
       "<style scoped>\n",
       "    .dataframe tbody tr th:only-of-type {\n",
       "        vertical-align: middle;\n",
       "    }\n",
       "\n",
       "    .dataframe tbody tr th {\n",
       "        vertical-align: top;\n",
       "    }\n",
       "\n",
       "    .dataframe thead th {\n",
       "        text-align: right;\n",
       "    }\n",
       "</style>\n",
       "<table border=\"1\" class=\"dataframe\">\n",
       "  <thead>\n",
       "    <tr style=\"text-align: right;\">\n",
       "      <th></th>\n",
       "      <th>close</th>\n",
       "      <th>bitcoin</th>\n",
       "      <th>num_tweets</th>\n",
       "    </tr>\n",
       "  </thead>\n",
       "  <tbody>\n",
       "    <tr>\n",
       "      <th>close</th>\n",
       "      <td>1.000000</td>\n",
       "      <td>0.727929</td>\n",
       "      <td>0.801102</td>\n",
       "    </tr>\n",
       "    <tr>\n",
       "      <th>bitcoin</th>\n",
       "      <td>0.727929</td>\n",
       "      <td>1.000000</td>\n",
       "      <td>0.785577</td>\n",
       "    </tr>\n",
       "    <tr>\n",
       "      <th>num_tweets</th>\n",
       "      <td>0.801102</td>\n",
       "      <td>0.785577</td>\n",
       "      <td>1.000000</td>\n",
       "    </tr>\n",
       "  </tbody>\n",
       "</table>\n",
       "</div>"
      ],
      "text/plain": [
       "               close   bitcoin  num_tweets\n",
       "close       1.000000  0.727929    0.801102\n",
       "bitcoin     0.727929  1.000000    0.785577\n",
       "num_tweets  0.801102  0.785577    1.000000"
      ]
     },
     "execution_count": 117,
     "metadata": {},
     "output_type": "execute_result"
    }
   ],
   "source": [
    "df.corr()"
   ]
  },
  {
   "cell_type": "code",
   "execution_count": 118,
   "metadata": {},
   "outputs": [],
   "source": [
    "# new_df = pd.concat([df[['bitcoin','num_tweets']].shift(-i),df['close']], axis = 1).dropna()\n",
    "# new_df['prev_price'] = new_df['close'].shift(1).dropna()\n",
    "# new_df['prev_tweet_volume'] = new_df['num_tweets'].shift(1).dropna()\n",
    "# new_df = new_df.dropna()\n",
    "# X = new_df[['bitcoin','num_tweets','prev_price','prev_tweet_volume']]\n",
    "# y = new_df['close']"
   ]
  },
  {
   "cell_type": "code",
   "execution_count": 119,
   "metadata": {},
   "outputs": [],
   "source": [
    "X = df[['bitcoin','num_tweets']]\n",
    "y = df.close"
   ]
  },
  {
   "cell_type": "code",
   "execution_count": 120,
   "metadata": {},
   "outputs": [],
   "source": [
    "#X_train, X_test, y_train, y_test = train_test_split(X_scaled, y, test_size = 0.3, random_state = 42)\n",
    "X_train = X[X.index <= pd.to_datetime('2019-12-31')]\n",
    "X_test = X[X.index > pd.to_datetime('2019-12-31')]\n",
    "y_train = y[y.index <= pd.to_datetime('2019-12-31')]\n",
    "y_test = y[y.index > pd.to_datetime('2019-12-31')]"
   ]
  },
  {
   "cell_type": "code",
   "execution_count": 121,
   "metadata": {},
   "outputs": [],
   "source": [
    "ss = StandardScaler()\n",
    "X_train_scaled = ss.fit_transform(X_train)\n",
    "X_test_scaled = ss.fit_transform(X_test)"
   ]
  },
  {
   "cell_type": "code",
   "execution_count": 122,
   "metadata": {},
   "outputs": [
    {
     "data": {
      "text/plain": [
       "LinearRegression()"
      ]
     },
     "execution_count": 122,
     "metadata": {},
     "output_type": "execute_result"
    }
   ],
   "source": [
    "lr = LinearRegression()\n",
    "lr.fit(X_train_scaled, y_train)"
   ]
  },
  {
   "cell_type": "code",
   "execution_count": 123,
   "metadata": {},
   "outputs": [],
   "source": [
    "import pickle\n",
    "\n",
    "pickle.dump(lr, open('lr_tweet_bitcoin.pkl', 'wb'))"
   ]
  },
  {
   "cell_type": "code",
   "execution_count": 124,
   "metadata": {},
   "outputs": [
    {
     "name": "stderr",
     "output_type": "stream",
     "text": [
      "<ipython-input-124-a794898eb10c>:1: FutureWarning: The frame.append method is deprecated and will be removed from pandas in a future version. Use pandas.concat instead.\n",
      "  df.append({'close':1,'bitcoin':1.11,'num_tweets':1}, ignore_index = True)\n"
     ]
    },
    {
     "data": {
      "text/html": [
       "<div>\n",
       "<style scoped>\n",
       "    .dataframe tbody tr th:only-of-type {\n",
       "        vertical-align: middle;\n",
       "    }\n",
       "\n",
       "    .dataframe tbody tr th {\n",
       "        vertical-align: top;\n",
       "    }\n",
       "\n",
       "    .dataframe thead th {\n",
       "        text-align: right;\n",
       "    }\n",
       "</style>\n",
       "<table border=\"1\" class=\"dataframe\">\n",
       "  <thead>\n",
       "    <tr style=\"text-align: right;\">\n",
       "      <th></th>\n",
       "      <th>close</th>\n",
       "      <th>bitcoin</th>\n",
       "      <th>num_tweets</th>\n",
       "    </tr>\n",
       "  </thead>\n",
       "  <tbody>\n",
       "    <tr>\n",
       "      <th>0</th>\n",
       "      <td>384.63</td>\n",
       "      <td>3.72</td>\n",
       "      <td>8193.0</td>\n",
       "    </tr>\n",
       "    <tr>\n",
       "      <th>1</th>\n",
       "      <td>435.14</td>\n",
       "      <td>4.00</td>\n",
       "      <td>15039.0</td>\n",
       "    </tr>\n",
       "    <tr>\n",
       "      <th>2</th>\n",
       "      <td>437.65</td>\n",
       "      <td>3.88</td>\n",
       "      <td>14907.0</td>\n",
       "    </tr>\n",
       "    <tr>\n",
       "      <th>3</th>\n",
       "      <td>427.60</td>\n",
       "      <td>2.88</td>\n",
       "      <td>7582.0</td>\n",
       "    </tr>\n",
       "    <tr>\n",
       "      <th>4</th>\n",
       "      <td>478.38</td>\n",
       "      <td>2.64</td>\n",
       "      <td>10674.0</td>\n",
       "    </tr>\n",
       "    <tr>\n",
       "      <th>...</th>\n",
       "      <td>...</td>\n",
       "      <td>...</td>\n",
       "      <td>...</td>\n",
       "    </tr>\n",
       "    <tr>\n",
       "      <th>2820</th>\n",
       "      <td>46471.70</td>\n",
       "      <td>16.10</td>\n",
       "      <td>118350.0</td>\n",
       "    </tr>\n",
       "    <tr>\n",
       "      <th>2821</th>\n",
       "      <td>47129.66</td>\n",
       "      <td>15.75</td>\n",
       "      <td>111906.0</td>\n",
       "    </tr>\n",
       "    <tr>\n",
       "      <th>2822</th>\n",
       "      <td>46197.31</td>\n",
       "      <td>15.40</td>\n",
       "      <td>126646.0</td>\n",
       "    </tr>\n",
       "    <tr>\n",
       "      <th>2823</th>\n",
       "      <td>47737.35</td>\n",
       "      <td>14.35</td>\n",
       "      <td>116434.0</td>\n",
       "    </tr>\n",
       "    <tr>\n",
       "      <th>2824</th>\n",
       "      <td>1.00</td>\n",
       "      <td>1.11</td>\n",
       "      <td>1.0</td>\n",
       "    </tr>\n",
       "  </tbody>\n",
       "</table>\n",
       "<p>2825 rows × 3 columns</p>\n",
       "</div>"
      ],
      "text/plain": [
       "         close  bitcoin  num_tweets\n",
       "0       384.63     3.72      8193.0\n",
       "1       435.14     4.00     15039.0\n",
       "2       437.65     3.88     14907.0\n",
       "3       427.60     2.88      7582.0\n",
       "4       478.38     2.64     10674.0\n",
       "...        ...      ...         ...\n",
       "2820  46471.70    16.10    118350.0\n",
       "2821  47129.66    15.75    111906.0\n",
       "2822  46197.31    15.40    126646.0\n",
       "2823  47737.35    14.35    116434.0\n",
       "2824      1.00     1.11         1.0\n",
       "\n",
       "[2825 rows x 3 columns]"
      ]
     },
     "execution_count": 124,
     "metadata": {},
     "output_type": "execute_result"
    }
   ],
   "source": [
    "df.append({'close':1,'bitcoin':1.11,'num_tweets':1}, ignore_index = True)"
   ]
  },
  {
   "cell_type": "code",
   "execution_count": null,
   "metadata": {},
   "outputs": [],
   "source": []
  },
  {
   "cell_type": "code",
   "execution_count": null,
   "metadata": {},
   "outputs": [],
   "source": []
  },
  {
   "cell_type": "code",
   "execution_count": 125,
   "metadata": {},
   "outputs": [
    {
     "name": "stdout",
     "output_type": "stream",
     "text": [
      "Training R2 score shifting back predictors 0 days: 0.6782375668389579\n",
      "Testing R2 score shifting back predictors 0 days: 0.6361062225472554\n",
      "CV R2 score shifting back predictors 0 days: 0.6708574222001615\n",
      "--- --- --- ---\n",
      "Training R2 score shifting back predictors 1 days: 0.6665917191394195\n",
      "Testing R2 score shifting back predictors 1 days: 0.6689453338435125\n",
      "CV R2 score shifting back predictors 1 days: 0.6535384617397422\n",
      "--- --- --- ---\n",
      "Training R2 score shifting back predictors 2 days: 0.6621932106548494\n",
      "Testing R2 score shifting back predictors 2 days: 0.6764650439020085\n",
      "CV R2 score shifting back predictors 2 days: 0.6582142473228082\n",
      "--- --- --- ---\n",
      "Training R2 score shifting back predictors 3 days: 0.6643338963824852\n",
      "Testing R2 score shifting back predictors 3 days: 0.6639320407166606\n",
      "CV R2 score shifting back predictors 3 days: 0.6578359580023454\n",
      "--- --- --- ---\n",
      "Training R2 score shifting back predictors 4 days: 0.6705213275256007\n",
      "Testing R2 score shifting back predictors 4 days: 0.6529921877635564\n",
      "CV R2 score shifting back predictors 4 days: 0.6584814527185995\n",
      "--- --- --- ---\n",
      "Training R2 score shifting back predictors 5 days: 0.652180864621567\n",
      "Testing R2 score shifting back predictors 5 days: 0.6965106582698064\n",
      "CV R2 score shifting back predictors 5 days: 0.6448287739909525\n",
      "--- --- --- ---\n",
      "Training R2 score shifting back predictors 6 days: 0.6650330068729607\n",
      "Testing R2 score shifting back predictors 6 days: 0.6638994318065661\n",
      "CV R2 score shifting back predictors 6 days: 0.6562963057431224\n",
      "--- --- --- ---\n",
      "Training R2 score shifting back predictors 7 days: 0.6664401024474196\n",
      "Testing R2 score shifting back predictors 7 days: 0.6541731868763402\n",
      "CV R2 score shifting back predictors 7 days: 0.6550339901242577\n",
      "--- --- --- ---\n"
     ]
    }
   ],
   "source": [
    "# trying shifting predictors back 0-7 days\n",
    "\n",
    "for i in range(8):\n",
    "    new_df = pd.concat([df[['bitcoin','num_tweets']].shift(-i),df['close']], axis = 1).dropna()\n",
    "    new_df['prev_price'] = new_df['close'].shift(1)\n",
    "    new_df['prev_tweet_volumne'] = new_df['num_tweets'].shift(1)\n",
    "    X = new_df[['bitcoin','num_tweets']]\n",
    "    y = new_df['close']\n",
    "    ss = StandardScaler()\n",
    "    X_scaled = ss.fit_transform(X)\n",
    "    X_train, X_test, y_train, y_test = train_test_split(X_scaled, y, test_size = 0.3)\n",
    "    lr = LinearRegression()\n",
    "    lr.fit(X_train, y_train)\n",
    "    y_train_pred = lr.predict(X_train)\n",
    "    y_test_pred = lr.predict(X_test)\n",
    "    \n",
    "    r2_cv_score = sum(cross_val_score(lr, X_train, y_train, cv=10, \n",
    "                                  scoring='r2', \n",
    "                                  n_jobs=-1)) / 10\n",
    "    \n",
    "    print('Training R2 score shifting back predictors {} days: {}'.format(i,r2_score(y_train, y_train_pred)))\n",
    "    print('Testing R2 score shifting back predictors {} days: {}'.format(i,r2_score(y_test, y_test_pred)))\n",
    "    print('CV R2 score shifting back predictors {} days: {}'.format(i,r2_cv_score))\n",
    "    print('--- --- --- ---')"
   ]
  },
  {
   "cell_type": "code",
   "execution_count": 126,
   "metadata": {},
   "outputs": [
    {
     "data": {
      "text/plain": [
       "GradientBoostingRegressor()"
      ]
     },
     "execution_count": 126,
     "metadata": {},
     "output_type": "execute_result"
    }
   ],
   "source": [
    "i = 3\n",
    "new_df = pd.concat([df[['bitcoin','num_tweets']].shift(-i),df['close']], axis = 1).dropna()\n",
    "new_df['prev_price'] = new_df['close'].shift(1)\n",
    "new_df['prev_tweet_volume'] = new_df['num_tweets'].shift(1)\n",
    "new_df = new_df.dropna()\n",
    "\n",
    "#X_train, X_test, y_train, y_test, i_train, i_test = train_test_split(X_scaled, y, X.index,test_size = 0.3)\n",
    "train = new_df[new_df.index.year <= 2019]\n",
    "test = new_df[new_df.index.year > 2019]\n",
    "\n",
    "X_train = train[['bitcoin','num_tweets','prev_price','prev_tweet_volume']]\n",
    "y_train = train['close']\n",
    "\n",
    "X_test = test[['bitcoin','num_tweets','prev_price','prev_tweet_volume']]\n",
    "y_test = test['close']\n",
    "\n",
    "ss = StandardScaler()\n",
    "X_train_scaled = ss.fit_transform(X_train)\n",
    "X_test_scaled = ss.fit_transform(X_test)\n",
    "\n",
    "lr = GradientBoostingRegressor()\n",
    "lr.fit(X_train, y_train)"
   ]
  },
  {
   "cell_type": "code",
   "execution_count": 127,
   "metadata": {},
   "outputs": [
    {
     "name": "stderr",
     "output_type": "stream",
     "text": [
      "<ipython-input-127-727dbfd5267c>:2: SettingWithCopyWarning: \n",
      "A value is trying to be set on a copy of a slice from a DataFrame.\n",
      "Try using .loc[row_indexer,col_indexer] = value instead\n",
      "\n",
      "See the caveats in the documentation: https://pandas.pydata.org/pandas-docs/stable/user_guide/indexing.html#returning-a-view-versus-a-copy\n",
      "  train['preds'] = lr.predict(X_train)\n",
      "<ipython-input-127-727dbfd5267c>:3: SettingWithCopyWarning: \n",
      "A value is trying to be set on a copy of a slice from a DataFrame.\n",
      "Try using .loc[row_indexer,col_indexer] = value instead\n",
      "\n",
      "See the caveats in the documentation: https://pandas.pydata.org/pandas-docs/stable/user_guide/indexing.html#returning-a-view-versus-a-copy\n",
      "  test['preds'] = lr.predict(X_test)\n"
     ]
    }
   ],
   "source": [
    "#preds_train = pd.DataFrame(lr.predict(X_train), columns = ['train_preds'])\n",
    "train['preds'] = lr.predict(X_train)\n",
    "test['preds'] = lr.predict(X_test)"
   ]
  },
  {
   "cell_type": "code",
   "execution_count": 128,
   "metadata": {},
   "outputs": [
    {
     "name": "stdout",
     "output_type": "stream",
     "text": [
      "0.998088414188629\n",
      "-0.24090753789373887\n"
     ]
    }
   ],
   "source": [
    "print(r2_score(y_train, train['preds']))\n",
    "print(r2_score(y_test, test['preds']))"
   ]
  },
  {
   "cell_type": "code",
   "execution_count": 129,
   "metadata": {},
   "outputs": [
    {
     "name": "stdout",
     "output_type": "stream",
     "text": [
      "169.43313033434976\n",
      "21901.562592846916\n"
     ]
    }
   ],
   "source": [
    "print(mean_squared_error(y_train, train['preds'])**0.5)\n",
    "print(mean_squared_error(y_test, test['preds'])**0.5)"
   ]
  },
  {
   "cell_type": "code",
   "execution_count": 130,
   "metadata": {},
   "outputs": [],
   "source": [
    "r2_cv_score = sum(cross_val_score(lr, X_train, y_train, cv=10, \n",
    "                                  scoring='r2', \n",
    "                                  n_jobs=-1)) / 10"
   ]
  },
  {
   "cell_type": "code",
   "execution_count": 131,
   "metadata": {},
   "outputs": [
    {
     "data": {
      "text/plain": [
       "0.8927831825933572"
      ]
     },
     "execution_count": 131,
     "metadata": {},
     "output_type": "execute_result"
    }
   ],
   "source": [
    "r2_cv_score"
   ]
  },
  {
   "cell_type": "code",
   "execution_count": 132,
   "metadata": {},
   "outputs": [],
   "source": [
    "mse_cv_score = -sum(cross_val_score(lr, X_train, y_train, cv=10, \n",
    "                                  scoring='neg_root_mean_squared_error', \n",
    "                                  n_jobs=-1)) / 10"
   ]
  },
  {
   "cell_type": "code",
   "execution_count": 133,
   "metadata": {},
   "outputs": [
    {
     "data": {
      "text/plain": [
       "18.72020675048135"
      ]
     },
     "execution_count": 133,
     "metadata": {},
     "output_type": "execute_result"
    }
   ],
   "source": [
    "mse_cv_score**0.5"
   ]
  },
  {
   "cell_type": "code",
   "execution_count": 134,
   "metadata": {},
   "outputs": [],
   "source": [
    "mape_cv_score = -sum(cross_val_score(lr, X_train, y_train, cv=10, \n",
    "                                  scoring='neg_mean_absolute_percentage_error', \n",
    "                                  n_jobs=-1)) / 10"
   ]
  },
  {
   "cell_type": "code",
   "execution_count": 135,
   "metadata": {},
   "outputs": [
    {
     "data": {
      "text/plain": [
       "0.05930109447034143"
      ]
     },
     "execution_count": 135,
     "metadata": {},
     "output_type": "execute_result"
    }
   ],
   "source": [
    "mape_cv_score"
   ]
  },
  {
   "cell_type": "code",
   "execution_count": 30,
   "metadata": {},
   "outputs": [
    {
     "data": {
      "image/png": "[encoded data removed]",
      "text/plain": [
       "<Figure size 432x288 with 1 Axes>"
      ]
     },
     "metadata": {
      "needs_background": "light"
     },
     "output_type": "display_data"
    }
   ],
   "source": [
    "new_df['close'].plot(c = 'black', label = 'actual')\n",
    "train['preds'].plot(c = 'green', label = 'train')\n",
    "test['preds'].plot(c = 'red', label = 'test')\n",
    "plt.legend()\n",
    "plt.ylabel('closing price')\n",
    "plt.axvline(datetime(2019, 12, 31))\n",
    "plt.show()"
   ]
  }
 ],
 "metadata": {
  "kernelspec": {
   "display_name": "Python 3",
   "language": "python",
   "name": "python3"
  },
  "language_info": {
   "codemirror_mode": {
    "name": "ipython",
    "version": 3
   },
   "file_extension": ".py",
   "mimetype": "text/x-python",
   "name": "python",
   "nbconvert_exporter": "python",
   "pygments_lexer": "ipython3",
   "version": "3.8.5"
  }
 },
 "nbformat": 4,
 "nbformat_minor": 4
}

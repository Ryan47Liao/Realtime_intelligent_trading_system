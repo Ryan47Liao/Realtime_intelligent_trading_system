{
 "cells": [
  {
   "cell_type": "code",
   "execution_count": 5,
   "metadata": {},
   "outputs": [],
   "source": [
    "import pandas as pd\n",
    "import matplotlib.pyplot as plt\n",
    "\n",
    "from sklearn.linear_model import LinearRegression\n",
    "from sklearn.tree import DecisionTreeRegressor\n",
    "from sklearn.preprocessing import StandardScaler\n",
    "from sklearn.model_selection import train_test_split\n",
    "from sklearn.metrics import r2_score\n",
    "\n",
    "import time"
   ]
  },
  {
   "cell_type": "code",
   "execution_count": 6,
   "metadata": {},
   "outputs": [],
   "source": [
    "bitcoin_prices = pd.read_csv('/Users/admin/Desktop/UChicago/Real Time Intelligent System/BitCoin_hist_data.csv')\n",
    "bitcoin_prices.date = pd.to_datetime(bitcoin_prices.date)\n",
    "bitcoin_prices = bitcoin_prices[bitcoin_prices.date.dt.year >= 2014]"
   ]
  },
  {
   "cell_type": "code",
   "execution_count": 7,
   "metadata": {},
   "outputs": [],
   "source": [
    "bitcoin_gtrends = pd.read_csv('/Users/admin/Desktop/UChicago/Real Time Intelligent System/google_trends_bitcoin_2014.csv')\n",
    "bitcoin_gtrends.date = pd.to_datetime(bitcoin_gtrends.date)"
   ]
  },
  {
   "cell_type": "code",
   "execution_count": 8,
   "metadata": {},
   "outputs": [],
   "source": [
    "bitcoin_tweet_volumes = pd.read_csv('/Users/admin/Desktop/UChicago/Real Time Intelligent System/tweet_volumes_bitcoin_2014.csv')\n",
    "bitcoin_tweet_volumes = bitcoin_tweet_volumes[['date','num_tweets']]\n",
    "bitcoin_tweet_volumes.date = pd.to_datetime(bitcoin_tweet_volumes.date, format = '%Y-%m-%d')"
   ]
  },
  {
   "cell_type": "code",
   "execution_count": 9,
   "metadata": {},
   "outputs": [],
   "source": [
    "bitcoin_tweet_volumes.num_tweets = bitcoin_tweet_volumes.num_tweets.interpolate()"
   ]
  },
  {
   "cell_type": "code",
   "execution_count": 10,
   "metadata": {},
   "outputs": [
    {
     "data": {
      "text/html": [
       "<div>\n",
       "<style scoped>\n",
       "    .dataframe tbody tr th:only-of-type {\n",
       "        vertical-align: middle;\n",
       "    }\n",
       "\n",
       "    .dataframe tbody tr th {\n",
       "        vertical-align: top;\n",
       "    }\n",
       "\n",
       "    .dataframe thead th {\n",
       "        text-align: right;\n",
       "    }\n",
       "</style>\n",
       "<table border=\"1\" class=\"dataframe\">\n",
       "  <thead>\n",
       "    <tr style=\"text-align: right;\">\n",
       "      <th></th>\n",
       "      <th>date</th>\n",
       "      <th>bitcoin_unscaled</th>\n",
       "      <th>bitcoin_monthly</th>\n",
       "      <th>isPartial</th>\n",
       "      <th>scale</th>\n",
       "      <th>bitcoin</th>\n",
       "    </tr>\n",
       "  </thead>\n",
       "  <tbody>\n",
       "    <tr>\n",
       "      <th>0</th>\n",
       "      <td>2014-01-01</td>\n",
       "      <td>63</td>\n",
       "      <td>8.0</td>\n",
       "      <td>False</td>\n",
       "      <td>0.08</td>\n",
       "      <td>5.04</td>\n",
       "    </tr>\n",
       "    <tr>\n",
       "      <th>1</th>\n",
       "      <td>2014-01-02</td>\n",
       "      <td>68</td>\n",
       "      <td>8.0</td>\n",
       "      <td>NaN</td>\n",
       "      <td>0.08</td>\n",
       "      <td>5.44</td>\n",
       "    </tr>\n",
       "    <tr>\n",
       "      <th>2</th>\n",
       "      <td>2014-01-03</td>\n",
       "      <td>77</td>\n",
       "      <td>8.0</td>\n",
       "      <td>NaN</td>\n",
       "      <td>0.08</td>\n",
       "      <td>6.16</td>\n",
       "    </tr>\n",
       "    <tr>\n",
       "      <th>3</th>\n",
       "      <td>2014-01-04</td>\n",
       "      <td>63</td>\n",
       "      <td>8.0</td>\n",
       "      <td>NaN</td>\n",
       "      <td>0.08</td>\n",
       "      <td>5.04</td>\n",
       "    </tr>\n",
       "    <tr>\n",
       "      <th>4</th>\n",
       "      <td>2014-01-05</td>\n",
       "      <td>71</td>\n",
       "      <td>8.0</td>\n",
       "      <td>NaN</td>\n",
       "      <td>0.08</td>\n",
       "      <td>5.68</td>\n",
       "    </tr>\n",
       "    <tr>\n",
       "      <th>...</th>\n",
       "      <td>...</td>\n",
       "      <td>...</td>\n",
       "      <td>...</td>\n",
       "      <td>...</td>\n",
       "      <td>...</td>\n",
       "      <td>...</td>\n",
       "    </tr>\n",
       "    <tr>\n",
       "      <th>2917</th>\n",
       "      <td>2021-12-27</td>\n",
       "      <td>43</td>\n",
       "      <td>35.0</td>\n",
       "      <td>NaN</td>\n",
       "      <td>0.35</td>\n",
       "      <td>15.05</td>\n",
       "    </tr>\n",
       "    <tr>\n",
       "      <th>2918</th>\n",
       "      <td>2021-12-28</td>\n",
       "      <td>46</td>\n",
       "      <td>35.0</td>\n",
       "      <td>NaN</td>\n",
       "      <td>0.35</td>\n",
       "      <td>16.10</td>\n",
       "    </tr>\n",
       "    <tr>\n",
       "      <th>2919</th>\n",
       "      <td>2021-12-29</td>\n",
       "      <td>45</td>\n",
       "      <td>35.0</td>\n",
       "      <td>NaN</td>\n",
       "      <td>0.35</td>\n",
       "      <td>15.75</td>\n",
       "    </tr>\n",
       "    <tr>\n",
       "      <th>2920</th>\n",
       "      <td>2021-12-30</td>\n",
       "      <td>44</td>\n",
       "      <td>35.0</td>\n",
       "      <td>NaN</td>\n",
       "      <td>0.35</td>\n",
       "      <td>15.40</td>\n",
       "    </tr>\n",
       "    <tr>\n",
       "      <th>2921</th>\n",
       "      <td>2021-12-31</td>\n",
       "      <td>41</td>\n",
       "      <td>35.0</td>\n",
       "      <td>NaN</td>\n",
       "      <td>0.35</td>\n",
       "      <td>14.35</td>\n",
       "    </tr>\n",
       "  </tbody>\n",
       "</table>\n",
       "<p>2922 rows × 6 columns</p>\n",
       "</div>"
      ],
      "text/plain": [
       "           date  bitcoin_unscaled  bitcoin_monthly isPartial  scale  bitcoin\n",
       "0    2014-01-01                63              8.0     False   0.08     5.04\n",
       "1    2014-01-02                68              8.0       NaN   0.08     5.44\n",
       "2    2014-01-03                77              8.0       NaN   0.08     6.16\n",
       "3    2014-01-04                63              8.0       NaN   0.08     5.04\n",
       "4    2014-01-05                71              8.0       NaN   0.08     5.68\n",
       "...         ...               ...              ...       ...    ...      ...\n",
       "2917 2021-12-27                43             35.0       NaN   0.35    15.05\n",
       "2918 2021-12-28                46             35.0       NaN   0.35    16.10\n",
       "2919 2021-12-29                45             35.0       NaN   0.35    15.75\n",
       "2920 2021-12-30                44             35.0       NaN   0.35    15.40\n",
       "2921 2021-12-31                41             35.0       NaN   0.35    14.35\n",
       "\n",
       "[2922 rows x 6 columns]"
      ]
     },
     "execution_count": 10,
     "metadata": {},
     "output_type": "execute_result"
    }
   ],
   "source": [
    "bitcoin_gtrends"
   ]
  },
  {
   "cell_type": "markdown",
   "metadata": {},
   "source": [
    "# w/ google trends & tweet volumes"
   ]
  },
  {
   "cell_type": "code",
   "execution_count": 11,
   "metadata": {},
   "outputs": [],
   "source": [
    "df_tmp = bitcoin_prices.merge(bitcoin_gtrends, on = 'date')[['date','close','bitcoin']]\n",
    "df = df_tmp.merge(bitcoin_tweet_volumes, on = 'date')\n",
    "df = df.set_index('date')"
   ]
  },
  {
   "cell_type": "code",
   "execution_count": 12,
   "metadata": {},
   "outputs": [
    {
     "data": {
      "text/html": [
       "<div>\n",
       "<style scoped>\n",
       "    .dataframe tbody tr th:only-of-type {\n",
       "        vertical-align: middle;\n",
       "    }\n",
       "\n",
       "    .dataframe tbody tr th {\n",
       "        vertical-align: top;\n",
       "    }\n",
       "\n",
       "    .dataframe thead th {\n",
       "        text-align: right;\n",
       "    }\n",
       "</style>\n",
       "<table border=\"1\" class=\"dataframe\">\n",
       "  <thead>\n",
       "    <tr style=\"text-align: right;\">\n",
       "      <th></th>\n",
       "      <th>close</th>\n",
       "      <th>bitcoin</th>\n",
       "      <th>num_tweets</th>\n",
       "    </tr>\n",
       "  </thead>\n",
       "  <tbody>\n",
       "    <tr>\n",
       "      <th>close</th>\n",
       "      <td>1.000000</td>\n",
       "      <td>0.727929</td>\n",
       "      <td>0.801102</td>\n",
       "    </tr>\n",
       "    <tr>\n",
       "      <th>bitcoin</th>\n",
       "      <td>0.727929</td>\n",
       "      <td>1.000000</td>\n",
       "      <td>0.785577</td>\n",
       "    </tr>\n",
       "    <tr>\n",
       "      <th>num_tweets</th>\n",
       "      <td>0.801102</td>\n",
       "      <td>0.785577</td>\n",
       "      <td>1.000000</td>\n",
       "    </tr>\n",
       "  </tbody>\n",
       "</table>\n",
       "</div>"
      ],
      "text/plain": [
       "               close   bitcoin  num_tweets\n",
       "close       1.000000  0.727929    0.801102\n",
       "bitcoin     0.727929  1.000000    0.785577\n",
       "num_tweets  0.801102  0.785577    1.000000"
      ]
     },
     "execution_count": 12,
     "metadata": {},
     "output_type": "execute_result"
    }
   ],
   "source": [
    "df.corr()"
   ]
  },
  {
   "cell_type": "code",
   "execution_count": 14,
   "metadata": {},
   "outputs": [],
   "source": [
    "i = 1\n",
    "new_df = pd.concat([df[['bitcoin','num_tweets']].shift(-i),df['close']], axis = 1).dropna()\n",
    "new_df['prev_price'] = new_df['close'].shift(1).dropna()\n",
    "new_df['prev_tweet_volume'] = new_df['num_tweets'].shift(1).dropna()\n",
    "new_df = new_df.dropna()\n",
    "X = new_df[['bitcoin','num_tweets','prev_price','prev_tweet_volume']]\n",
    "y = new_df['close']"
   ]
  },
  {
   "cell_type": "code",
   "execution_count": 45,
   "metadata": {},
   "outputs": [],
   "source": [
    "#X_train, X_test, y_train, y_test = train_test_split(X_scaled, y, test_size = 0.3, random_state = 42)\n",
    "X_train = X[X.index <= pd.to_datetime('2019-12-31')]\n",
    "X_test = X[X.index > pd.to_datetime('2019-12-31')]\n",
    "y_train = y[y.index <= pd.to_datetime('2019-12-31')]\n",
    "y_test = y[y.index > pd.to_datetime('2019-12-31')]"
   ]
  },
  {
   "cell_type": "code",
   "execution_count": 46,
   "metadata": {},
   "outputs": [],
   "source": [
    "ss = StandardScaler()\n",
    "X_train_scaled = ss.fit_transform(X_train)\n",
    "X_test_scaled = ss.fit_transform(X_test)"
   ]
  },
  {
   "cell_type": "code",
   "execution_count": 47,
   "metadata": {},
   "outputs": [
    {
     "data": {
      "text/plain": [
       "DecisionTreeRegressor(min_samples_leaf=5, min_samples_split=10)"
      ]
     },
     "execution_count": 47,
     "metadata": {},
     "output_type": "execute_result"
    }
   ],
   "source": [
    "tree = DecisionTreeRegressor(min_samples_split = 10, min_samples_leaf=5)\n",
    "tree.fit(X_train_scaled, y_train)"
   ]
  },
  {
   "cell_type": "code",
   "execution_count": 46,
   "metadata": {},
   "outputs": [],
   "source": [
    "import pickle\n",
    "\n",
    "pickle.dump(lr, open('lr_tweet_bitcoin.pkl', 'wb'))"
   ]
  },
  {
   "cell_type": "code",
   "execution_count": null,
   "metadata": {},
   "outputs": [],
   "source": []
  },
  {
   "cell_type": "code",
   "execution_count": null,
   "metadata": {},
   "outputs": [],
   "source": []
  },
  {
   "cell_type": "code",
   "execution_count": null,
   "metadata": {},
   "outputs": [],
   "source": []
  },
  {
   "cell_type": "code",
   "execution_count": 104,
   "metadata": {},
   "outputs": [
    {
     "name": "stdout",
     "output_type": "stream",
     "text": [
      "Training R2 score shifting back predictors 0 days: 0.9034524939800106\n",
      "Testing R2 score shifting back predictors 0 days: 0.6965074058612004\n",
      "--- --- --- ---\n",
      "Training R2 score shifting back predictors 1 days: 0.8901760705406999\n",
      "Testing R2 score shifting back predictors 1 days: 0.7507351304492594\n",
      "--- --- --- ---\n",
      "Training R2 score shifting back predictors 2 days: 0.890227556914271\n",
      "Testing R2 score shifting back predictors 2 days: 0.7140334000332602\n",
      "--- --- --- ---\n",
      "Training R2 score shifting back predictors 3 days: 0.885018783015717\n",
      "Testing R2 score shifting back predictors 3 days: 0.7253445528227108\n",
      "--- --- --- ---\n",
      "Training R2 score shifting back predictors 4 days: 0.8875298514306544\n",
      "Testing R2 score shifting back predictors 4 days: 0.6991975699659967\n",
      "--- --- --- ---\n",
      "Training R2 score shifting back predictors 5 days: 0.8904964129727138\n",
      "Testing R2 score shifting back predictors 5 days: 0.7165174060494975\n",
      "--- --- --- ---\n",
      "Training R2 score shifting back predictors 6 days: 0.8917531054765961\n",
      "Testing R2 score shifting back predictors 6 days: 0.7257507011784676\n",
      "--- --- --- ---\n",
      "Training R2 score shifting back predictors 7 days: 0.8757142146991115\n",
      "Testing R2 score shifting back predictors 7 days: 0.7605140276397778\n",
      "--- --- --- ---\n"
     ]
    }
   ],
   "source": [
    "# try with cv?\n",
    "\n",
    "for i in range(8):\n",
    "    new_df = pd.concat([df[['bitcoin','num_tweets']].shift(-i),df['close']], axis = 1).dropna()\n",
    "    new_df['prev_price'] = new_df['close'].shift(1)\n",
    "    new_df['prev_tweet_volumne'] = new_df['num_tweets'].shift(1)\n",
    "    X = new_df[['bitcoin','num_tweets']]\n",
    "    y = new_df['close']\n",
    "    ss = StandardScaler()\n",
    "    X_scaled = ss.fit_transform(X)\n",
    "    X_train, X_test, y_train, y_test = train_test_split(X_scaled, y, test_size = 0.3)\n",
    "#     X_train = X[:2093]\n",
    "#     X_test = X[2094:]\n",
    "#     y_train = y[:2093]\n",
    "#     y_test = y[2094:]\n",
    "    tree = DecisionTreeRegressor(min_samples_split = 10, min_samples_leaf=5)\n",
    "    tree.fit(X_train, y_train)\n",
    "    y_train_pred = tree.predict(X_train)\n",
    "    y_test_pred = tree.predict(X_test)\n",
    "    print('Training R2 score shifting back predictors {} days: {}'.format(i,r2_score(y_train, y_train_pred)))\n",
    "    print('Testing R2 score shifting back predictors {} days: {}'.format(i,r2_score(y_test, y_test_pred)))\n",
    "    print('--- --- --- ---')"
   ]
  },
  {
   "cell_type": "code",
   "execution_count": 147,
   "metadata": {},
   "outputs": [
    {
     "data": {
      "application/vnd.jupyter.widget-view+json": {
       "model_id": "283f72e3b1e3476da1f9b327649001db",
       "version_major": 2,
       "version_minor": 0
      },
      "text/plain": [
       "  0%|          | 0/5 [00:00<?, ?it/s]"
      ]
     },
     "metadata": {},
     "output_type": "display_data"
    },
    {
     "name": "stdout",
     "output_type": "stream",
     "text": [
      "RandomForestRegressor(min_samples_leaf=10, min_samples_split=20)\n",
      "R2: 0.79\n",
      "Test RMSE: 7067.11\n",
      "Test MAPE: 0.63\n",
      "DecisionTreeRegressor(min_samples_leaf=10, min_samples_split=5)\n",
      "R2: 0.76\n",
      "Test RMSE: 7773.23\n",
      "Test MAPE: 0.64\n",
      "LinearSVR(epsilon=0.01)\n",
      "R2: -0.26\n",
      "Test RMSE: 18238.34\n",
      "Test MAPE: 0.75\n",
      "GradientBoostingRegressor(min_samples_split=5)\n",
      "R2: 0.79\n",
      "Test RMSE: 7089.81\n",
      "Test MAPE: 0.66\n",
      "LinearRegression()\n",
      "R2: 0.65\n",
      "Test RMSE: 9060.98\n",
      "Test MAPE: 3.63\n"
     ]
    }
   ],
   "source": [
    "from sklearn.model_selection import GridSearchCV, KFold\n",
    "from sklearn.svm import LinearSVR\n",
    "from sklearn.ensemble import GradientBoostingRegressor,RandomForestRegressor\n",
    "from tqdm.notebook import tqdm\n",
    "from sklearn.metrics import mean_squared_error, mean_absolute_percentage_error\n",
    "\n",
    "i = 3\n",
    "new_df = pd.concat([df[['bitcoin','num_tweets']].shift(-i),df['close']], axis = 1).dropna()\n",
    "new_df['prev_price'] = new_df['close'].shift(1)\n",
    "new_df['prev_tweet_volumne'] = new_df['num_tweets'].shift(1)\n",
    "X = new_df[['bitcoin','num_tweets']]\n",
    "y = new_df['close']\n",
    "ss = StandardScaler()\n",
    "X_scaled = ss.fit_transform(X)\n",
    "X_train, X_test, y_train, y_test = train_test_split(X_scaled, y, test_size = 0.2)\n",
    "    \n",
    "modelparams = {RandomForestRegressor() : {'min_samples_split' : [5,10,20], 'min_samples_leaf' : [5,10]}\n",
    "              ,DecisionTreeRegressor() : {'min_samples_split' : [5,10,20], 'min_samples_leaf' : [5,10]}\n",
    "              ,LinearSVR() : {'epsilon' : [0, 0.01, 0.02, 0.03]}\n",
    "              ,GradientBoostingRegressor() : {'n_estimators' : [100, 200, 300], 'learning_rate' : [0.1, 0.2, 0.5], 'min_samples_split' : [5,10,20]}\n",
    "              ,LinearRegression() : {}\n",
    "              }\n",
    "\n",
    "for model, params in tqdm(modelparams.items()):\n",
    "    clf = GridSearchCV(model, params, cv = 5)\n",
    "    clf.fit(X_train, y_train)\n",
    "    y_train_pred = clf.predict(X_train)\n",
    "    y_test_pred = clf.predict(X_test)\n",
    "    print(clf.best_estimator_)\n",
    "    print(\"R2:\", round(clf.best_score_,2))\n",
    "    print(\"Test RMSE:\", round(mean_squared_error(y_test, y_test_pred, squared = False),2))\n",
    "    print(\"Test MAPE:\", round(mean_absolute_percentage_error(y_test, y_test_pred),2))"
   ]
  },
  {
   "cell_type": "code",
   "execution_count": null,
   "metadata": {},
   "outputs": [],
   "source": []
  }
 ],
 "metadata": {
  "kernelspec": {
   "display_name": "Python 3",
   "language": "python",
   "name": "python3"
  },
  "language_info": {
   "codemirror_mode": {
    "name": "ipython",
    "version": 3
   },
   "file_extension": ".py",
   "mimetype": "text/x-python",
   "name": "python",
   "nbconvert_exporter": "python",
   "pygments_lexer": "ipython3",
   "version": "3.8.8"
  }
 },
 "nbformat": 4,
 "nbformat_minor": 4
}
